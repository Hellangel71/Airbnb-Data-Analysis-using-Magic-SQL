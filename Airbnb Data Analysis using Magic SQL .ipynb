{
    "nbformat_minor": 4, 
    "cells": [
        {
            "source": "# Load Necessary Libraries", 
            "cell_type": "markdown", 
            "metadata": {}
        }, 
        {
            "execution_count": 1, 
            "cell_type": "code", 
            "metadata": {}, 
            "outputs": [
                {
                    "output_type": "stream", 
                    "name": "stdout", 
                    "text": "Collecting ipython-sql\n  Downloading https://files.pythonhosted.org/packages/ab/df/427e7cf05ffc67e78672ad57dce2436c1e825129033effe6fcaf804d0c60/ipython_sql-0.3.9-py2.py3-none-any.whl\nRequirement already satisfied: ipython>=1.0 in /opt/conda/envs/Python36/lib/python3.6/site-packages (from ipython-sql) (7.2.0)\nRequirement already satisfied: ipython-genutils>=0.1.0 in /opt/conda/envs/Python36/lib/python3.6/site-packages (from ipython-sql) (0.2.0)\nRequirement already satisfied: sqlalchemy>=0.6.7 in /opt/conda/envs/Python36/lib/python3.6/site-packages (from ipython-sql) (1.2.18)\nCollecting prettytable (from ipython-sql)\n  Downloading https://files.pythonhosted.org/packages/ef/30/4b0746848746ed5941f052479e7c23d2b56d174b82f4fd34a25e389831f5/prettytable-0.7.2.tar.bz2\nCollecting sqlparse (from ipython-sql)\n  Downloading https://files.pythonhosted.org/packages/ef/53/900f7d2a54557c6a37886585a91336520e5539e3ae2423ff1102daf4f3a7/sqlparse-0.3.0-py2.py3-none-any.whl\nRequirement already satisfied: six in /opt/conda/envs/Python36/lib/python3.6/site-packages (from ipython-sql) (1.12.0)\nRequirement already satisfied: prompt-toolkit<2.1.0,>=2.0.0 in /opt/conda/envs/Python36/lib/python3.6/site-packages (from ipython>=1.0->ipython-sql) (2.0.8)\nRequirement already satisfied: pygments in /opt/conda/envs/Python36/lib/python3.6/site-packages (from ipython>=1.0->ipython-sql) (2.3.1)\nRequirement already satisfied: decorator in /opt/conda/envs/Python36/lib/python3.6/site-packages (from ipython>=1.0->ipython-sql) (4.3.2)\nRequirement already satisfied: backcall in /opt/conda/envs/Python36/lib/python3.6/site-packages (from ipython>=1.0->ipython-sql) (0.1.0)\nRequirement already satisfied: pexpect; sys_platform != \"win32\" in /opt/conda/envs/Python36/lib/python3.6/site-packages (from ipython>=1.0->ipython-sql) (4.6.0)\nRequirement already satisfied: traitlets>=4.2 in /opt/conda/envs/Python36/lib/python3.6/site-packages (from ipython>=1.0->ipython-sql) (4.3.2)\nRequirement already satisfied: jedi>=0.10 in /opt/conda/envs/Python36/lib/python3.6/site-packages (from ipython>=1.0->ipython-sql) (0.13.2)\nRequirement already satisfied: pickleshare in /opt/conda/envs/Python36/lib/python3.6/site-packages (from ipython>=1.0->ipython-sql) (0.7.5)\nRequirement already satisfied: setuptools>=18.5 in /opt/conda/envs/Python36/lib/python3.6/site-packages (from ipython>=1.0->ipython-sql) (40.8.0)\nRequirement already satisfied: wcwidth in /opt/conda/envs/Python36/lib/python3.6/site-packages (from prompt-toolkit<2.1.0,>=2.0.0->ipython>=1.0->ipython-sql) (0.1.7)\nRequirement already satisfied: ptyprocess>=0.5 in /opt/conda/envs/Python36/lib/python3.6/site-packages (from pexpect; sys_platform != \"win32\"->ipython>=1.0->ipython-sql) (0.6.0)\nRequirement already satisfied: parso>=0.3.0 in /opt/conda/envs/Python36/lib/python3.6/site-packages (from jedi>=0.10->ipython>=1.0->ipython-sql) (0.3.2)\nBuilding wheels for collected packages: prettytable\n  Building wheel for prettytable (setup.py) ... \u001b[?25ldone\n\u001b[?25h  Stored in directory: /home/dsxuser/.cache/pip/wheels/80/34/1c/3967380d9676d162cb59513bd9dc862d0584e045a162095606\nSuccessfully built prettytable\nInstalling collected packages: prettytable, sqlparse, ipython-sql\nSuccessfully installed ipython-sql-0.3.9 prettytable-0.7.2 sqlparse-0.3.0\n"
                }
            ], 
            "source": "import ibm_db\nimport pandas as pd\nimport seaborn as sns\n! pip install ipython-sql"
        }, 
        {
            "source": "# Load the SQL Extension", 
            "cell_type": "markdown", 
            "metadata": {}
        }, 
        {
            "execution_count": 2, 
            "cell_type": "code", 
            "metadata": {}, 
            "outputs": [], 
            "source": "%load_ext sql"
        }, 
        {
            "source": "# Connect with IBM DB2 Database", 
            "cell_type": "markdown", 
            "metadata": {}
        }, 
        {
            "execution_count": 3, 
            "cell_type": "code", 
            "metadata": {}, 
            "outputs": [
                {
                    "execution_count": 3, 
                    "metadata": {}, 
                    "data": {
                        "text/plain": "'Connected: kkm06713@BLUDB'"
                    }, 
                    "output_type": "execute_result"
                }
            ], 
            "source": "# The code was removed by Watson Studio for sharing."
        }, 
        {
            "source": "## Obtain number of rows in the data", 
            "cell_type": "markdown", 
            "metadata": {}
        }, 
        {
            "execution_count": 4, 
            "cell_type": "code", 
            "metadata": {}, 
            "outputs": [
                {
                    "output_type": "stream", 
                    "name": "stdout", 
                    "text": " * ibm_db_sa://kkm06713:***@dashdb-txn-sbox-yp-dal09-04.services.dal.bluemix.net:50000/BLUDB\nDone.\n"
                }, 
                {
                    "execution_count": 4, 
                    "metadata": {}, 
                    "data": {
                        "text/html": "<table>\n    <tr>\n        <th>1</th>\n    </tr>\n    <tr>\n        <td>48941</td>\n    </tr>\n</table>", 
                        "text/plain": "[(Decimal('48941'),)]"
                    }, 
                    "output_type": "execute_result"
                }
            ], 
            "source": "%sql SELECT count(*) FROM air_bnb;"
        }, 
        {
            "source": "## Select entire data", 
            "cell_type": "markdown", 
            "metadata": {}
        }, 
        {
            "execution_count": 5, 
            "cell_type": "code", 
            "metadata": {}, 
            "outputs": [
                {
                    "output_type": "stream", 
                    "name": "stdout", 
                    "text": " * ibm_db_sa://kkm06713:***@dashdb-txn-sbox-yp-dal09-04.services.dal.bluemix.net:50000/BLUDB\nDone.\n"
                }, 
                {
                    "execution_count": 5, 
                    "metadata": {}, 
                    "data": {
                        "text/html": "<table>\n    <tr>\n        <th>id</th>\n        <th>name</th>\n        <th>host_id</th>\n        <th>host_name</th>\n        <th>neighbourhood_group</th>\n        <th>neighbourhood</th>\n        <th>latitude</th>\n        <th>longitude</th>\n        <th>room_type</th>\n        <th>price</th>\n        <th>minimum_nights</th>\n        <th>number_of_reviews</th>\n        <th>last_review</th>\n        <th>reviews_per_month</th>\n        <th>calculated_host_listings_count</th>\n        <th>availability_365</th>\n    </tr>\n    <tr>\n        <td>2539</td>\n        <td>Clean &amp; quiet apt home by the park</td>\n        <td>2787</td>\n        <td>John</td>\n        <td>Brooklyn</td>\n        <td>Kensington</td>\n        <td>40.64749</td>\n        <td>-73.97237</td>\n        <td>Private room</td>\n        <td>149</td>\n        <td>1</td>\n        <td>9</td>\n        <td>2018-10-19</td>\n        <td>0.21</td>\n        <td>6</td>\n        <td>365</td>\n    </tr>\n    <tr>\n        <td>2595</td>\n        <td>Skylit Midtown Castle</td>\n        <td>2845</td>\n        <td>Jennifer</td>\n        <td>Manhattan</td>\n        <td>Midtown</td>\n        <td>40.75362</td>\n        <td>-73.98377</td>\n        <td>Entire home/apt</td>\n        <td>225</td>\n        <td>1</td>\n        <td>45</td>\n        <td>2019-05-21</td>\n        <td>0.38</td>\n        <td>2</td>\n        <td>355</td>\n    </tr>\n    <tr>\n        <td>3647</td>\n        <td>THE VILLAGE OF HARLEM....NEW YORK !</td>\n        <td>4632</td>\n        <td>Elisabeth</td>\n        <td>Manhattan</td>\n        <td>Harlem</td>\n        <td>40.80902</td>\n        <td>-73.94190</td>\n        <td>Private room</td>\n        <td>150</td>\n        <td>3</td>\n        <td>0</td>\n        <td>None</td>\n        <td>None</td>\n        <td>1</td>\n        <td>365</td>\n    </tr>\n    <tr>\n        <td>3831</td>\n        <td>Cozy Entire Floor of Brownstone</td>\n        <td>4869</td>\n        <td>LisaRoxanne</td>\n        <td>Brooklyn</td>\n        <td>Clinton Hill</td>\n        <td>40.68514</td>\n        <td>-73.95976</td>\n        <td>Entire home/apt</td>\n        <td>89</td>\n        <td>1</td>\n        <td>270</td>\n        <td>2019-07-05</td>\n        <td>4.64</td>\n        <td>1</td>\n        <td>194</td>\n    </tr>\n    <tr>\n        <td>5022</td>\n        <td>Entire Apt: Spacious Studio/Loft by central park</td>\n        <td>7192</td>\n        <td>Laura</td>\n        <td>Manhattan</td>\n        <td>East Harlem</td>\n        <td>40.79851</td>\n        <td>-73.94399</td>\n        <td>Entire home/apt</td>\n        <td>80</td>\n        <td>10</td>\n        <td>9</td>\n        <td>2018-11-19</td>\n        <td>0.10</td>\n        <td>1</td>\n        <td>0</td>\n    </tr>\n    <tr>\n        <td>5099</td>\n        <td>Large Cozy 1 BR Apartment In Midtown East</td>\n        <td>7322</td>\n        <td>Chris</td>\n        <td>Manhattan</td>\n        <td>Murray Hill</td>\n        <td>40.74767</td>\n        <td>-73.97500</td>\n        <td>Entire home/apt</td>\n        <td>200</td>\n        <td>3</td>\n        <td>74</td>\n        <td>2019-06-22</td>\n        <td>0.59</td>\n        <td>1</td>\n        <td>129</td>\n    </tr>\n    <tr>\n        <td>5121</td>\n        <td>BlissArtsSpace!</td>\n        <td>7356</td>\n        <td>Garon</td>\n        <td>Brooklyn</td>\n        <td>Bedford-Stuyvesant</td>\n        <td>40.68688</td>\n        <td>-73.95596</td>\n        <td>Private room</td>\n        <td>60</td>\n        <td>45</td>\n        <td>49</td>\n        <td>2017-10-05</td>\n        <td>0.40</td>\n        <td>1</td>\n        <td>0</td>\n    </tr>\n    <tr>\n        <td>5178</td>\n        <td>Large Furnished Room Near B&#x27;way</td>\n        <td>8967</td>\n        <td>Shunichi</td>\n        <td>Manhattan</td>\n        <td>Hell&#x27;s Kitchen</td>\n        <td>40.76489</td>\n        <td>-73.98493</td>\n        <td>Private room</td>\n        <td>79</td>\n        <td>2</td>\n        <td>430</td>\n        <td>2019-06-24</td>\n        <td>3.47</td>\n        <td>1</td>\n        <td>220</td>\n    </tr>\n    <tr>\n        <td>5203</td>\n        <td>Cozy Clean Guest Room - Family Apt</td>\n        <td>7490</td>\n        <td>MaryEllen</td>\n        <td>Manhattan</td>\n        <td>Upper West Side</td>\n        <td>40.80178</td>\n        <td>-73.96723</td>\n        <td>Private room</td>\n        <td>79</td>\n        <td>2</td>\n        <td>118</td>\n        <td>2017-07-21</td>\n        <td>0.99</td>\n        <td>1</td>\n        <td>0</td>\n    </tr>\n    <tr>\n        <td>5238</td>\n        <td>Cute &amp; Cozy Lower East Side 1 bdrm</td>\n        <td>7549</td>\n        <td>Ben</td>\n        <td>Manhattan</td>\n        <td>Chinatown</td>\n        <td>40.71344</td>\n        <td>-73.99037</td>\n        <td>Entire home/apt</td>\n        <td>150</td>\n        <td>1</td>\n        <td>160</td>\n        <td>2019-06-09</td>\n        <td>1.33</td>\n        <td>4</td>\n        <td>188</td>\n    </tr>\n    <tr>\n        <td>5295</td>\n        <td>Beautiful 1br on Upper West Side</td>\n        <td>7702</td>\n        <td>Lena</td>\n        <td>Manhattan</td>\n        <td>Upper West Side</td>\n        <td>40.80316</td>\n        <td>-73.96545</td>\n        <td>Entire home/apt</td>\n        <td>135</td>\n        <td>5</td>\n        <td>53</td>\n        <td>2019-06-22</td>\n        <td>0.43</td>\n        <td>1</td>\n        <td>6</td>\n    </tr>\n    <tr>\n        <td>5441</td>\n        <td>Central Manhattan/near Broadway</td>\n        <td>7989</td>\n        <td>Kate</td>\n        <td>Manhattan</td>\n        <td>Hell&#x27;s Kitchen</td>\n        <td>40.76076</td>\n        <td>-73.98867</td>\n        <td>Private room</td>\n        <td>85</td>\n        <td>2</td>\n        <td>188</td>\n        <td>2019-06-23</td>\n        <td>1.50</td>\n        <td>1</td>\n        <td>39</td>\n    </tr>\n    <tr>\n        <td>5803</td>\n        <td>Lovely Room 1, Garden, Best Area, Legal rental</td>\n        <td>9744</td>\n        <td>Laurie</td>\n        <td>Brooklyn</td>\n        <td>South Slope</td>\n        <td>40.66829</td>\n        <td>-73.98779</td>\n        <td>Private room</td>\n        <td>89</td>\n        <td>4</td>\n        <td>167</td>\n        <td>2019-06-24</td>\n        <td>1.34</td>\n        <td>3</td>\n        <td>314</td>\n    </tr>\n    <tr>\n        <td>6021</td>\n        <td>Wonderful Guest Bedroom in Manhattan for SINGLES</td>\n        <td>11528</td>\n        <td>Claudio</td>\n        <td>Manhattan</td>\n        <td>Upper West Side</td>\n        <td>40.79826</td>\n        <td>-73.96113</td>\n        <td>Private room</td>\n        <td>85</td>\n        <td>2</td>\n        <td>113</td>\n        <td>2019-07-05</td>\n        <td>0.91</td>\n        <td>1</td>\n        <td>333</td>\n    </tr>\n    <tr>\n        <td>6090</td>\n        <td>West Village Nest - Superhost</td>\n        <td>11975</td>\n        <td>Alina</td>\n        <td>Manhattan</td>\n        <td>West Village</td>\n        <td>40.73530</td>\n        <td>-74.00525</td>\n        <td>Entire home/apt</td>\n        <td>120</td>\n        <td>90</td>\n        <td>27</td>\n        <td>2018-10-31</td>\n        <td>0.22</td>\n        <td>1</td>\n        <td>0</td>\n    </tr>\n    <tr>\n        <td>6848</td>\n        <td>Only 2 stops to Manhattan studio</td>\n        <td>15991</td>\n        <td>Allen &amp; Irina</td>\n        <td>Brooklyn</td>\n        <td>Williamsburg</td>\n        <td>40.70837</td>\n        <td>-73.95352</td>\n        <td>Entire home/apt</td>\n        <td>140</td>\n        <td>2</td>\n        <td>148</td>\n        <td>2019-06-29</td>\n        <td>1.20</td>\n        <td>1</td>\n        <td>46</td>\n    </tr>\n    <tr>\n        <td>7097</td>\n        <td>Perfect for Your Parents + Garden</td>\n        <td>17571</td>\n        <td>Jane</td>\n        <td>Brooklyn</td>\n        <td>Fort Greene</td>\n        <td>40.69169</td>\n        <td>-73.97185</td>\n        <td>Entire home/apt</td>\n        <td>215</td>\n        <td>2</td>\n        <td>198</td>\n        <td>2019-06-28</td>\n        <td>1.72</td>\n        <td>1</td>\n        <td>321</td>\n    </tr>\n    <tr>\n        <td>7322</td>\n        <td>Chelsea Perfect</td>\n        <td>18946</td>\n        <td>Doti</td>\n        <td>Manhattan</td>\n        <td>Chelsea</td>\n        <td>40.74192</td>\n        <td>-73.99501</td>\n        <td>Private room</td>\n        <td>140</td>\n        <td>1</td>\n        <td>260</td>\n        <td>2019-07-01</td>\n        <td>2.12</td>\n        <td>1</td>\n        <td>12</td>\n    </tr>\n    <tr>\n        <td>7726</td>\n        <td>Hip Historic Brownstone Apartment with Backyard</td>\n        <td>20950</td>\n        <td>Adam And Charity</td>\n        <td>Brooklyn</td>\n        <td>Crown Heights</td>\n        <td>40.67592</td>\n        <td>-73.94694</td>\n        <td>Entire home/apt</td>\n        <td>99</td>\n        <td>3</td>\n        <td>53</td>\n        <td>2019-06-22</td>\n        <td>4.44</td>\n        <td>1</td>\n        <td>21</td>\n    </tr>\n    <tr>\n        <td>7750</td>\n        <td>Huge 2 BR Upper East  Cental Park</td>\n        <td>17985</td>\n        <td>Sing</td>\n        <td>Manhattan</td>\n        <td>East Harlem</td>\n        <td>40.79685</td>\n        <td>-73.94872</td>\n        <td>Entire home/apt</td>\n        <td>190</td>\n        <td>7</td>\n        <td>0</td>\n        <td>None</td>\n        <td>None</td>\n        <td>2</td>\n        <td>249</td>\n    </tr>\n</table>", 
                        "text/plain": "[('2539', 'Clean & quiet apt home by the park', '2787', 'John', 'Brooklyn', 'Kensington', Decimal('40.64749'), Decimal('-73.97237'), 'Private room', 149, 1, 9, datetime.date(2018, 10, 19), Decimal('0.21'), 6, 365),\n ('2595', 'Skylit Midtown Castle', '2845', 'Jennifer', 'Manhattan', 'Midtown', Decimal('40.75362'), Decimal('-73.98377'), 'Entire home/apt', 225, 1, 45, datetime.date(2019, 5, 21), Decimal('0.38'), 2, 355),\n ('3647', 'THE VILLAGE OF HARLEM....NEW YORK !', '4632', 'Elisabeth', 'Manhattan', 'Harlem', Decimal('40.80902'), Decimal('-73.94190'), 'Private room', 150, 3, 0, None, None, 1, 365),\n ('3831', 'Cozy Entire Floor of Brownstone', '4869', 'LisaRoxanne', 'Brooklyn', 'Clinton Hill', Decimal('40.68514'), Decimal('-73.95976'), 'Entire home/apt', 89, 1, 270, datetime.date(2019, 7, 5), Decimal('4.64'), 1, 194),\n ('5022', 'Entire Apt: Spacious Studio/Loft by central park', '7192', 'Laura', 'Manhattan', 'East Harlem', Decimal('40.79851'), Decimal('-73.94399'), 'Entire home/apt', 80, 10, 9, datetime.date(2018, 11, 19), Decimal('0.10'), 1, 0),\n ('5099', 'Large Cozy 1 BR Apartment In Midtown East', '7322', 'Chris', 'Manhattan', 'Murray Hill', Decimal('40.74767'), Decimal('-73.97500'), 'Entire home/apt', 200, 3, 74, datetime.date(2019, 6, 22), Decimal('0.59'), 1, 129),\n ('5121', 'BlissArtsSpace!', '7356', 'Garon', 'Brooklyn', 'Bedford-Stuyvesant', Decimal('40.68688'), Decimal('-73.95596'), 'Private room', 60, 45, 49, datetime.date(2017, 10, 5), Decimal('0.40'), 1, 0),\n ('5178', \"Large Furnished Room Near B'way\", '8967', 'Shunichi', 'Manhattan', \"Hell's Kitchen\", Decimal('40.76489'), Decimal('-73.98493'), 'Private room', 79, 2, 430, datetime.date(2019, 6, 24), Decimal('3.47'), 1, 220),\n ('5203', 'Cozy Clean Guest Room - Family Apt', '7490', 'MaryEllen', 'Manhattan', 'Upper West Side', Decimal('40.80178'), Decimal('-73.96723'), 'Private room', 79, 2, 118, datetime.date(2017, 7, 21), Decimal('0.99'), 1, 0),\n ('5238', 'Cute & Cozy Lower East Side 1 bdrm', '7549', 'Ben', 'Manhattan', 'Chinatown', Decimal('40.71344'), Decimal('-73.99037'), 'Entire home/apt', 150, 1, 160, datetime.date(2019, 6, 9), Decimal('1.33'), 4, 188),\n ('5295', 'Beautiful 1br on Upper West Side', '7702', 'Lena', 'Manhattan', 'Upper West Side', Decimal('40.80316'), Decimal('-73.96545'), 'Entire home/apt', 135, 5, 53, datetime.date(2019, 6, 22), Decimal('0.43'), 1, 6),\n ('5441', 'Central Manhattan/near Broadway', '7989', 'Kate', 'Manhattan', \"Hell's Kitchen\", Decimal('40.76076'), Decimal('-73.98867'), 'Private room', 85, 2, 188, datetime.date(2019, 6, 23), Decimal('1.50'), 1, 39),\n ('5803', 'Lovely Room 1, Garden, Best Area, Legal rental', '9744', 'Laurie', 'Brooklyn', 'South Slope', Decimal('40.66829'), Decimal('-73.98779'), 'Private room', 89, 4, 167, datetime.date(2019, 6, 24), Decimal('1.34'), 3, 314),\n ('6021', 'Wonderful Guest Bedroom in Manhattan for SINGLES', '11528', 'Claudio', 'Manhattan', 'Upper West Side', Decimal('40.79826'), Decimal('-73.96113'), 'Private room', 85, 2, 113, datetime.date(2019, 7, 5), Decimal('0.91'), 1, 333),\n ('6090', 'West Village Nest - Superhost', '11975', 'Alina', 'Manhattan', 'West Village', Decimal('40.73530'), Decimal('-74.00525'), 'Entire home/apt', 120, 90, 27, datetime.date(2018, 10, 31), Decimal('0.22'), 1, 0),\n ('6848', 'Only 2 stops to Manhattan studio', '15991', 'Allen & Irina', 'Brooklyn', 'Williamsburg', Decimal('40.70837'), Decimal('-73.95352'), 'Entire home/apt', 140, 2, 148, datetime.date(2019, 6, 29), Decimal('1.20'), 1, 46),\n ('7097', 'Perfect for Your Parents + Garden', '17571', 'Jane', 'Brooklyn', 'Fort Greene', Decimal('40.69169'), Decimal('-73.97185'), 'Entire home/apt', 215, 2, 198, datetime.date(2019, 6, 28), Decimal('1.72'), 1, 321),\n ('7322', 'Chelsea Perfect', '18946', 'Doti', 'Manhattan', 'Chelsea', Decimal('40.74192'), Decimal('-73.99501'), 'Private room', 140, 1, 260, datetime.date(2019, 7, 1), Decimal('2.12'), 1, 12),\n ('7726', 'Hip Historic Brownstone Apartment with Backyard', '20950', 'Adam And Charity', 'Brooklyn', 'Crown Heights', Decimal('40.67592'), Decimal('-73.94694'), 'Entire home/apt', 99, 3, 53, datetime.date(2019, 6, 22), Decimal('4.44'), 1, 21),\n ('7750', 'Huge 2 BR Upper East  Cental Park', '17985', 'Sing', 'Manhattan', 'East Harlem', Decimal('40.79685'), Decimal('-73.94872'), 'Entire home/apt', 190, 7, 0, None, None, 2, 249)]"
                    }, 
                    "output_type": "execute_result"
                }
            ], 
            "source": "%%sql \n\nselect * from air_bnb limit 20;\n"
        }, 
        {
            "source": "## Convert to Pandas DataFrame", 
            "cell_type": "markdown", 
            "metadata": {}
        }, 
        {
            "execution_count": 6, 
            "cell_type": "code", 
            "metadata": {}, 
            "outputs": [
                {
                    "execution_count": 6, 
                    "metadata": {}, 
                    "data": {
                        "text/html": "<div>\n<style scoped>\n    .dataframe tbody tr th:only-of-type {\n        vertical-align: middle;\n    }\n\n    .dataframe tbody tr th {\n        vertical-align: top;\n    }\n\n    .dataframe thead th {\n        text-align: right;\n    }\n</style>\n<table border=\"1\" class=\"dataframe\">\n  <thead>\n    <tr style=\"text-align: right;\">\n      <th></th>\n      <th>id</th>\n      <th>name</th>\n      <th>host_id</th>\n      <th>host_name</th>\n      <th>neighbourhood_group</th>\n      <th>neighbourhood</th>\n      <th>latitude</th>\n      <th>longitude</th>\n      <th>room_type</th>\n      <th>price</th>\n      <th>minimum_nights</th>\n      <th>number_of_reviews</th>\n      <th>last_review</th>\n      <th>reviews_per_month</th>\n      <th>calculated_host_listings_count</th>\n      <th>availability_365</th>\n    </tr>\n  </thead>\n  <tbody>\n    <tr>\n      <th>0</th>\n      <td>2539</td>\n      <td>Clean &amp; quiet apt home by the park</td>\n      <td>2787</td>\n      <td>John</td>\n      <td>Brooklyn</td>\n      <td>Kensington</td>\n      <td>40.64749</td>\n      <td>-73.97237</td>\n      <td>Private room</td>\n      <td>149.0</td>\n      <td>1.0</td>\n      <td>9.0</td>\n      <td>2018-10-19</td>\n      <td>0.21</td>\n      <td>6.0</td>\n      <td>365.0</td>\n    </tr>\n    <tr>\n      <th>1</th>\n      <td>2595</td>\n      <td>Skylit Midtown Castle</td>\n      <td>2845</td>\n      <td>Jennifer</td>\n      <td>Manhattan</td>\n      <td>Midtown</td>\n      <td>40.75362</td>\n      <td>-73.98377</td>\n      <td>Entire home/apt</td>\n      <td>225.0</td>\n      <td>1.0</td>\n      <td>45.0</td>\n      <td>2019-05-21</td>\n      <td>0.38</td>\n      <td>2.0</td>\n      <td>355.0</td>\n    </tr>\n    <tr>\n      <th>2</th>\n      <td>3647</td>\n      <td>THE VILLAGE OF HARLEM....NEW YORK !</td>\n      <td>4632</td>\n      <td>Elisabeth</td>\n      <td>Manhattan</td>\n      <td>Harlem</td>\n      <td>40.80902</td>\n      <td>-73.94190</td>\n      <td>Private room</td>\n      <td>150.0</td>\n      <td>3.0</td>\n      <td>0.0</td>\n      <td>None</td>\n      <td>None</td>\n      <td>1.0</td>\n      <td>365.0</td>\n    </tr>\n    <tr>\n      <th>3</th>\n      <td>3831</td>\n      <td>Cozy Entire Floor of Brownstone</td>\n      <td>4869</td>\n      <td>LisaRoxanne</td>\n      <td>Brooklyn</td>\n      <td>Clinton Hill</td>\n      <td>40.68514</td>\n      <td>-73.95976</td>\n      <td>Entire home/apt</td>\n      <td>89.0</td>\n      <td>1.0</td>\n      <td>270.0</td>\n      <td>2019-07-05</td>\n      <td>4.64</td>\n      <td>1.0</td>\n      <td>194.0</td>\n    </tr>\n    <tr>\n      <th>4</th>\n      <td>5022</td>\n      <td>Entire Apt: Spacious Studio/Loft by central park</td>\n      <td>7192</td>\n      <td>Laura</td>\n      <td>Manhattan</td>\n      <td>East Harlem</td>\n      <td>40.79851</td>\n      <td>-73.94399</td>\n      <td>Entire home/apt</td>\n      <td>80.0</td>\n      <td>10.0</td>\n      <td>9.0</td>\n      <td>2018-11-19</td>\n      <td>0.10</td>\n      <td>1.0</td>\n      <td>0.0</td>\n    </tr>\n  </tbody>\n</table>\n</div>", 
                        "text/plain": "     id                                              name host_id  \\\n0  2539                Clean & quiet apt home by the park    2787   \n1  2595                             Skylit Midtown Castle    2845   \n2  3647               THE VILLAGE OF HARLEM....NEW YORK !    4632   \n3  3831                   Cozy Entire Floor of Brownstone    4869   \n4  5022  Entire Apt: Spacious Studio/Loft by central park    7192   \n\n     host_name neighbourhood_group neighbourhood  latitude  longitude  \\\n0         John            Brooklyn    Kensington  40.64749  -73.97237   \n1     Jennifer           Manhattan       Midtown  40.75362  -73.98377   \n2    Elisabeth           Manhattan        Harlem  40.80902  -73.94190   \n3  LisaRoxanne            Brooklyn  Clinton Hill  40.68514  -73.95976   \n4        Laura           Manhattan   East Harlem  40.79851  -73.94399   \n\n         room_type  price  minimum_nights  number_of_reviews last_review  \\\n0     Private room  149.0             1.0                9.0  2018-10-19   \n1  Entire home/apt  225.0             1.0               45.0  2019-05-21   \n2     Private room  150.0             3.0                0.0        None   \n3  Entire home/apt   89.0             1.0              270.0  2019-07-05   \n4  Entire home/apt   80.0            10.0                9.0  2018-11-19   \n\n  reviews_per_month  calculated_host_listings_count  availability_365  \n0              0.21                             6.0             365.0  \n1              0.38                             2.0             355.0  \n2              None                             1.0             365.0  \n3              4.64                             1.0             194.0  \n4              0.10                             1.0               0.0  "
                    }, 
                    "output_type": "execute_result"
                }
            ], 
            "source": "df = _.DataFrame()\ndf.head(5)"
        }, 
        {
            "source": "## Check for null values", 
            "cell_type": "markdown", 
            "metadata": {}
        }, 
        {
            "execution_count": 7, 
            "cell_type": "code", 
            "metadata": {}, 
            "outputs": [
                {
                    "output_type": "stream", 
                    "name": "stdout", 
                    "text": "<class 'pandas.core.frame.DataFrame'>\nRangeIndex: 48941 entries, 0 to 48940\nData columns (total 16 columns):\nid                                48940 non-null object\nname                              48924 non-null object\nhost_id                           48755 non-null object\nhost_name                         48734 non-null object\nneighbourhood_group               48755 non-null object\nneighbourhood                     48755 non-null object\nlatitude                          48755 non-null object\nlongitude                         48735 non-null object\nroom_type                         48755 non-null object\nprice                             48755 non-null float64\nminimum_nights                    48755 non-null float64\nnumber_of_reviews                 48735 non-null float64\nlast_review                       38706 non-null object\nreviews_per_month                 38726 non-null object\ncalculated_host_listings_count    48755 non-null float64\navailability_365                  48735 non-null float64\ndtypes: float64(5), object(11)\nmemory usage: 6.0+ MB\n"
                }
            ], 
            "source": "df.info()"
        }, 
        {
            "source": "## Display Statistical Information", 
            "cell_type": "markdown", 
            "metadata": {}
        }, 
        {
            "execution_count": 8, 
            "cell_type": "code", 
            "metadata": {}, 
            "outputs": [
                {
                    "execution_count": 8, 
                    "metadata": {}, 
                    "data": {
                        "text/html": "<div>\n<style scoped>\n    .dataframe tbody tr th:only-of-type {\n        vertical-align: middle;\n    }\n\n    .dataframe tbody tr th {\n        vertical-align: top;\n    }\n\n    .dataframe thead th {\n        text-align: right;\n    }\n</style>\n<table border=\"1\" class=\"dataframe\">\n  <thead>\n    <tr style=\"text-align: right;\">\n      <th></th>\n      <th>price</th>\n      <th>minimum_nights</th>\n      <th>number_of_reviews</th>\n      <th>calculated_host_listings_count</th>\n      <th>availability_365</th>\n    </tr>\n  </thead>\n  <tbody>\n    <tr>\n      <th>count</th>\n      <td>48755.000000</td>\n      <td>48755.000000</td>\n      <td>48735.000000</td>\n      <td>48755.000000</td>\n      <td>48735.000000</td>\n    </tr>\n    <tr>\n      <th>mean</th>\n      <td>152.640201</td>\n      <td>7.035073</td>\n      <td>23.256366</td>\n      <td>7.199897</td>\n      <td>112.614569</td>\n    </tr>\n    <tr>\n      <th>std</th>\n      <td>238.731356</td>\n      <td>20.533465</td>\n      <td>44.555924</td>\n      <td>33.132544</td>\n      <td>131.606959</td>\n    </tr>\n    <tr>\n      <th>min</th>\n      <td>0.000000</td>\n      <td>0.000000</td>\n      <td>0.000000</td>\n      <td>0.000000</td>\n      <td>0.000000</td>\n    </tr>\n    <tr>\n      <th>25%</th>\n      <td>69.000000</td>\n      <td>1.000000</td>\n      <td>1.000000</td>\n      <td>1.000000</td>\n      <td>0.000000</td>\n    </tr>\n    <tr>\n      <th>50%</th>\n      <td>106.000000</td>\n      <td>3.000000</td>\n      <td>5.000000</td>\n      <td>1.000000</td>\n      <td>44.000000</td>\n    </tr>\n    <tr>\n      <th>75%</th>\n      <td>175.000000</td>\n      <td>5.000000</td>\n      <td>23.000000</td>\n      <td>2.000000</td>\n      <td>226.000000</td>\n    </tr>\n    <tr>\n      <th>max</th>\n      <td>10000.000000</td>\n      <td>1250.000000</td>\n      <td>629.000000</td>\n      <td>365.000000</td>\n      <td>365.000000</td>\n    </tr>\n  </tbody>\n</table>\n</div>", 
                        "text/plain": "              price  minimum_nights  number_of_reviews  \\\ncount  48755.000000    48755.000000       48735.000000   \nmean     152.640201        7.035073          23.256366   \nstd      238.731356       20.533465          44.555924   \nmin        0.000000        0.000000           0.000000   \n25%       69.000000        1.000000           1.000000   \n50%      106.000000        3.000000           5.000000   \n75%      175.000000        5.000000          23.000000   \nmax    10000.000000     1250.000000         629.000000   \n\n       calculated_host_listings_count  availability_365  \ncount                    48755.000000      48735.000000  \nmean                         7.199897        112.614569  \nstd                         33.132544        131.606959  \nmin                          0.000000          0.000000  \n25%                          1.000000          0.000000  \n50%                          1.000000         44.000000  \n75%                          2.000000        226.000000  \nmax                        365.000000        365.000000  "
                    }, 
                    "output_type": "execute_result"
                }
            ], 
            "source": "df.describe()"
        }, 
        {
            "source": "## Shape of DataFrame", 
            "cell_type": "markdown", 
            "metadata": {}
        }, 
        {
            "execution_count": 9, 
            "cell_type": "code", 
            "metadata": {}, 
            "outputs": [
                {
                    "execution_count": 9, 
                    "metadata": {}, 
                    "data": {
                        "text/plain": "(48941, 16)"
                    }, 
                    "output_type": "execute_result"
                }
            ], 
            "source": "df.shape"
        }, 
        {
            "source": "## Calculate number of listings with Brooklyn as neighbourhood group", 
            "cell_type": "markdown", 
            "metadata": {}
        }, 
        {
            "execution_count": 10, 
            "cell_type": "code", 
            "metadata": {}, 
            "outputs": [
                {
                    "output_type": "stream", 
                    "name": "stdout", 
                    "text": " * ibm_db_sa://kkm06713:***@dashdb-txn-sbox-yp-dal09-04.services.dal.bluemix.net:50000/BLUDB\nDone.\n"
                }, 
                {
                    "execution_count": 10, 
                    "metadata": {}, 
                    "data": {
                        "text/html": "<table>\n    <tr>\n        <th>1</th>\n    </tr>\n    <tr>\n        <td>20057</td>\n    </tr>\n</table>", 
                        "text/plain": "[(Decimal('20057'),)]"
                    }, 
                    "output_type": "execute_result"
                }
            ], 
            "source": "%sql select count(*) from air_bnb where \"neighbourhood_group\" = 'Brooklyn';"
        }, 
        {
            "source": "## Calculate number of listings with Manhattan as neighbourhood group", 
            "cell_type": "markdown", 
            "metadata": {}
        }, 
        {
            "execution_count": 11, 
            "cell_type": "code", 
            "metadata": {}, 
            "outputs": [
                {
                    "output_type": "stream", 
                    "name": "stdout", 
                    "text": " * ibm_db_sa://kkm06713:***@dashdb-txn-sbox-yp-dal09-04.services.dal.bluemix.net:50000/BLUDB\nDone.\n"
                }, 
                {
                    "execution_count": 11, 
                    "metadata": {}, 
                    "data": {
                        "text/html": "<table>\n    <tr>\n        <th>1</th>\n    </tr>\n    <tr>\n        <td>21598</td>\n    </tr>\n</table>", 
                        "text/plain": "[(Decimal('21598'),)]"
                    }, 
                    "output_type": "execute_result"
                }
            ], 
            "source": "%sql select count(*) from air_bnb where \"neighbourhood_group\" = 'Manhattan';"
        }, 
        {
            "source": "## Display number of listings in each neighbourhood group", 
            "cell_type": "markdown", 
            "metadata": {}
        }, 
        {
            "execution_count": 12, 
            "cell_type": "code", 
            "metadata": {}, 
            "outputs": [
                {
                    "output_type": "stream", 
                    "name": "stdout", 
                    "text": " * ibm_db_sa://kkm06713:***@dashdb-txn-sbox-yp-dal09-04.services.dal.bluemix.net:50000/BLUDB\nDone.\n"
                }, 
                {
                    "execution_count": 12, 
                    "metadata": {}, 
                    "data": {
                        "text/html": "<table>\n    <tr>\n        <th>neighbourhood_group</th>\n        <th>count</th>\n    </tr>\n    <tr>\n        <td>Manhattan</td>\n        <td>21598</td>\n    </tr>\n    <tr>\n        <td>Brooklyn</td>\n        <td>20057</td>\n    </tr>\n    <tr>\n        <td>Queens</td>\n        <td>5630</td>\n    </tr>\n    <tr>\n        <td>Bronx</td>\n        <td>1080</td>\n    </tr>\n    <tr>\n        <td>Staten Island</td>\n        <td>370</td>\n    </tr>\n    <tr>\n        <td>None</td>\n        <td>185</td>\n    </tr>\n    <tr>\n        <td>East Village</td>\n        <td>3</td>\n    </tr>\n    <tr>\n        <td>Harlem</td>\n        <td>2</td>\n    </tr>\n    <tr>\n        <td>Midtown</td>\n        <td>2</td>\n    </tr>\n    <tr>\n        <td>Upper West Si</td>\n        <td>2</td>\n    </tr>\n    <tr>\n        <td>Astoria</td>\n        <td>1</td>\n    </tr>\n    <tr>\n        <td>Brooklyn Heig</td>\n        <td>1</td>\n    </tr>\n    <tr>\n        <td>Cambria Heigh</td>\n        <td>1</td>\n    </tr>\n    <tr>\n        <td>Cypress Hills</td>\n        <td>1</td>\n    </tr>\n    <tr>\n        <td>Flushing</td>\n        <td>1</td>\n    </tr>\n</table>", 
                        "text/plain": "[('Manhattan', Decimal('21598')),\n ('Brooklyn', Decimal('20057')),\n ('Queens', Decimal('5630')),\n ('Bronx', Decimal('1080')),\n ('Staten Island', Decimal('370')),\n (None, Decimal('185')),\n ('East Village', Decimal('3')),\n ('Harlem', Decimal('2')),\n ('Midtown', Decimal('2')),\n ('Upper West Si', Decimal('2')),\n ('Astoria', Decimal('1')),\n ('Brooklyn Heig', Decimal('1')),\n ('Cambria Heigh', Decimal('1')),\n ('Cypress Hills', Decimal('1')),\n ('Flushing', Decimal('1'))]"
                    }, 
                    "output_type": "execute_result"
                }
            ], 
            "source": "%sql select \"neighbourhood_group\",count(\"id\") as \"count\" from air_bnb group by \"neighbourhood_group\" order by count(\"id\") desc nulls last limit 15;"
        }, 
        {
            "source": "## Convert obtained result to DataFrame", 
            "cell_type": "markdown", 
            "metadata": {}
        }, 
        {
            "execution_count": 13, 
            "cell_type": "code", 
            "metadata": {}, 
            "outputs": [
                {
                    "execution_count": 13, 
                    "metadata": {}, 
                    "data": {
                        "text/html": "<div>\n<style scoped>\n    .dataframe tbody tr th:only-of-type {\n        vertical-align: middle;\n    }\n\n    .dataframe tbody tr th {\n        vertical-align: top;\n    }\n\n    .dataframe thead th {\n        text-align: right;\n    }\n</style>\n<table border=\"1\" class=\"dataframe\">\n  <thead>\n    <tr style=\"text-align: right;\">\n      <th></th>\n      <th>neighbourhood_group</th>\n      <th>count</th>\n    </tr>\n  </thead>\n  <tbody>\n    <tr>\n      <th>0</th>\n      <td>Manhattan</td>\n      <td>21598</td>\n    </tr>\n    <tr>\n      <th>1</th>\n      <td>Brooklyn</td>\n      <td>20057</td>\n    </tr>\n    <tr>\n      <th>2</th>\n      <td>Queens</td>\n      <td>5630</td>\n    </tr>\n    <tr>\n      <th>3</th>\n      <td>Bronx</td>\n      <td>1080</td>\n    </tr>\n    <tr>\n      <th>4</th>\n      <td>Staten Island</td>\n      <td>370</td>\n    </tr>\n    <tr>\n      <th>5</th>\n      <td>None</td>\n      <td>185</td>\n    </tr>\n    <tr>\n      <th>6</th>\n      <td>East Village</td>\n      <td>3</td>\n    </tr>\n    <tr>\n      <th>7</th>\n      <td>Harlem</td>\n      <td>2</td>\n    </tr>\n    <tr>\n      <th>8</th>\n      <td>Midtown</td>\n      <td>2</td>\n    </tr>\n    <tr>\n      <th>9</th>\n      <td>Upper West Si</td>\n      <td>2</td>\n    </tr>\n    <tr>\n      <th>10</th>\n      <td>Astoria</td>\n      <td>1</td>\n    </tr>\n    <tr>\n      <th>11</th>\n      <td>Brooklyn Heig</td>\n      <td>1</td>\n    </tr>\n    <tr>\n      <th>12</th>\n      <td>Cambria Heigh</td>\n      <td>1</td>\n    </tr>\n    <tr>\n      <th>13</th>\n      <td>Cypress Hills</td>\n      <td>1</td>\n    </tr>\n    <tr>\n      <th>14</th>\n      <td>Flushing</td>\n      <td>1</td>\n    </tr>\n  </tbody>\n</table>\n</div>", 
                        "text/plain": "   neighbourhood_group  count\n0            Manhattan  21598\n1             Brooklyn  20057\n2               Queens   5630\n3                Bronx   1080\n4        Staten Island    370\n5                 None    185\n6         East Village      3\n7               Harlem      2\n8              Midtown      2\n9        Upper West Si      2\n10             Astoria      1\n11       Brooklyn Heig      1\n12       Cambria Heigh      1\n13       Cypress Hills      1\n14            Flushing      1"
                    }, 
                    "output_type": "execute_result"
                }
            ], 
            "source": "df_neighbourhoods = _.DataFrame()\ndf_neighbourhoods"
        }, 
        {
            "source": "## Display the top 5 neighbourhood groups", 
            "cell_type": "markdown", 
            "metadata": {}
        }, 
        {
            "execution_count": 14, 
            "cell_type": "code", 
            "metadata": {}, 
            "outputs": [
                {
                    "execution_count": 14, 
                    "metadata": {}, 
                    "data": {
                        "text/plain": "<matplotlib.axes._subplots.AxesSubplot at 0x7f80fff53550>"
                    }, 
                    "output_type": "execute_result"
                }, 
                {
                    "output_type": "display_data", 
                    "data": {
                        "image/png": "[encoded data removed]", 
                        "text/plain": "<Figure size 432x288 with 1 Axes>"
                    }, 
                    "metadata": {
                        "needs_background": "light"
                    }
                }
            ], 
            "source": "sns.countplot(x='neighbourhood_group',data=df,order=pd.value_counts(df['neighbourhood_group']).iloc[:6].index)"
        }, 
        {
            "source": "## Display number of listings for each room type", 
            "cell_type": "markdown", 
            "metadata": {}
        }, 
        {
            "execution_count": 15, 
            "cell_type": "code", 
            "metadata": {}, 
            "outputs": [
                {
                    "output_type": "stream", 
                    "name": "stdout", 
                    "text": " * ibm_db_sa://kkm06713:***@dashdb-txn-sbox-yp-dal09-04.services.dal.bluemix.net:50000/BLUDB\nDone.\n"
                }, 
                {
                    "execution_count": 15, 
                    "metadata": {}, 
                    "data": {
                        "text/html": "<table>\n    <tr>\n        <th>room_type</th>\n        <th>count</th>\n    </tr>\n    <tr>\n        <td>Entire home/apt</td>\n        <td>25348</td>\n    </tr>\n    <tr>\n        <td>Private room</td>\n        <td>22229</td>\n    </tr>\n    <tr>\n        <td>Shared room</td>\n        <td>1158</td>\n    </tr>\n    <tr>\n        <td>None</td>\n        <td>185</td>\n    </tr>\n    <tr>\n        <td>75</td>\n        <td>2</td>\n    </tr>\n</table>", 
                        "text/plain": "[('Entire home/apt', Decimal('25348')),\n ('Private room', Decimal('22229')),\n ('Shared room', Decimal('1158')),\n (None, Decimal('185')),\n ('75', Decimal('2'))]"
                    }, 
                    "output_type": "execute_result"
                }
            ], 
            "source": "%sql select \"room_type\",count(\"id\") as \"count\" from air_bnb group by \"room_type\" order by count(\"id\") desc nulls last limit 5;"
        }, 
        {
            "source": "## Convert obtained result to DataFrame", 
            "cell_type": "markdown", 
            "metadata": {}
        }, 
        {
            "execution_count": 16, 
            "cell_type": "code", 
            "metadata": {}, 
            "outputs": [
                {
                    "execution_count": 16, 
                    "metadata": {}, 
                    "data": {
                        "text/html": "<div>\n<style scoped>\n    .dataframe tbody tr th:only-of-type {\n        vertical-align: middle;\n    }\n\n    .dataframe tbody tr th {\n        vertical-align: top;\n    }\n\n    .dataframe thead th {\n        text-align: right;\n    }\n</style>\n<table border=\"1\" class=\"dataframe\">\n  <thead>\n    <tr style=\"text-align: right;\">\n      <th></th>\n      <th>room_type</th>\n      <th>count</th>\n    </tr>\n  </thead>\n  <tbody>\n    <tr>\n      <th>0</th>\n      <td>Entire home/apt</td>\n      <td>25348</td>\n    </tr>\n    <tr>\n      <th>1</th>\n      <td>Private room</td>\n      <td>22229</td>\n    </tr>\n    <tr>\n      <th>2</th>\n      <td>Shared room</td>\n      <td>1158</td>\n    </tr>\n    <tr>\n      <th>3</th>\n      <td>None</td>\n      <td>185</td>\n    </tr>\n    <tr>\n      <th>4</th>\n      <td>75</td>\n      <td>2</td>\n    </tr>\n  </tbody>\n</table>\n</div>", 
                        "text/plain": "         room_type  count\n0  Entire home/apt  25348\n1     Private room  22229\n2      Shared room   1158\n3             None    185\n4               75      2"
                    }, 
                    "output_type": "execute_result"
                }
            ], 
            "source": "df_room = _.DataFrame()\ndf_room"
        }, 
        {
            "source": "## Display the top 5 room types", 
            "cell_type": "markdown", 
            "metadata": {}
        }, 
        {
            "execution_count": 17, 
            "cell_type": "code", 
            "metadata": {}, 
            "outputs": [
                {
                    "execution_count": 17, 
                    "metadata": {}, 
                    "data": {
                        "text/plain": "<matplotlib.axes._subplots.AxesSubplot at 0x7f80ff4976d8>"
                    }, 
                    "output_type": "execute_result"
                }, 
                {
                    "output_type": "display_data", 
                    "data": {
                        "image/png": "[encoded data removed]", 
                        "text/plain": "<Figure size 432x288 with 1 Axes>"
                    }, 
                    "metadata": {
                        "needs_background": "light"
                    }
                }
            ], 
            "source": "sns.countplot(x='room_type',data=df,order=pd.value_counts(df['room_type']).iloc[:5].index)"
        }, 
        {
            "source": "## Display the top 20 costliest listings", 
            "cell_type": "markdown", 
            "metadata": {}
        }, 
        {
            "execution_count": 18, 
            "cell_type": "code", 
            "metadata": {}, 
            "outputs": [
                {
                    "output_type": "stream", 
                    "name": "stdout", 
                    "text": " * ibm_db_sa://kkm06713:***@dashdb-txn-sbox-yp-dal09-04.services.dal.bluemix.net:50000/BLUDB\nDone.\n"
                }, 
                {
                    "execution_count": 18, 
                    "metadata": {}, 
                    "data": {
                        "text/html": "<table>\n    <tr>\n        <th>name</th>\n        <th>price</th>\n    </tr>\n    <tr>\n        <td>Furnished room in Astoria apartment</td>\n        <td>10000</td>\n    </tr>\n    <tr>\n        <td>1-BR Lincoln Center</td>\n        <td>10000</td>\n    </tr>\n    <tr>\n        <td>Luxury 1 bedroom apt. -stunning Manhattan views</td>\n        <td>10000</td>\n    </tr>\n    <tr>\n        <td>Spanish Harlem Apt</td>\n        <td>9999</td>\n    </tr>\n    <tr>\n        <td>2br - The Heart of NYC: Manhattans Lower East Side</td>\n        <td>9999</td>\n    </tr>\n    <tr>\n        <td>Quiet, Clean, Lit @ LES &amp; Chinatown</td>\n        <td>9999</td>\n    </tr>\n    <tr>\n        <td>Beautiful/Spacious 1 bed luxury flat-TriBeCa/Soho</td>\n        <td>8500</td>\n    </tr>\n    <tr>\n        <td>Film Location</td>\n        <td>8000</td>\n    </tr>\n    <tr>\n        <td>East 72nd Townhouse by (Hidden by Airbnb)</td>\n        <td>7703</td>\n    </tr>\n    <tr>\n        <td>70&#x27; Luxury MotorYacht on the Hudson</td>\n        <td>7500</td>\n    </tr>\n    <tr>\n        <td>Gem of east Flatbush</td>\n        <td>7500</td>\n    </tr>\n    <tr>\n        <td>3000 sq ft daylight photo studio</td>\n        <td>6800</td>\n    </tr>\n    <tr>\n        <td>SUPER BOWL Brooklyn Duplex Apt!!</td>\n        <td>6500</td>\n    </tr>\n    <tr>\n        <td>Luxury TriBeCa Apartment at an amazing price</td>\n        <td>6500</td>\n    </tr>\n    <tr>\n        <td>Park Avenue Mansion by (Hidden by Airbnb)</td>\n        <td>6419</td>\n    </tr>\n    <tr>\n        <td>UWS 1BR w/backyard + block from CP</td>\n        <td>6000</td>\n    </tr>\n    <tr>\n        <td>Luxury townhouse Greenwich Village</td>\n        <td>6000</td>\n    </tr>\n    <tr>\n        <td>SuperBowl Penthouse Loft 3,000 sqft</td>\n        <td>5250</td>\n    </tr>\n    <tr>\n        <td>Midtown Manhattan great location (Gramacy park)</td>\n        <td>5100</td>\n    </tr>\n    <tr>\n        <td>Beautiful 1 Bedroom in Nolita/Soho</td>\n        <td>5000</td>\n    </tr>\n</table>", 
                        "text/plain": "[('Furnished room in Astoria apartment', 10000),\n ('1-BR Lincoln Center', 10000),\n ('Luxury 1 bedroom apt. -stunning Manhattan views', 10000),\n ('Spanish Harlem Apt', 9999),\n ('2br - The Heart of NYC: Manhattans Lower East Side', 9999),\n ('Quiet, Clean, Lit @ LES & Chinatown', 9999),\n ('Beautiful/Spacious 1 bed luxury flat-TriBeCa/Soho', 8500),\n ('Film Location', 8000),\n ('East 72nd Townhouse by (Hidden by Airbnb)', 7703),\n (\"70' Luxury MotorYacht on the Hudson\", 7500),\n ('Gem of east Flatbush', 7500),\n ('3000 sq ft daylight photo studio', 6800),\n ('SUPER BOWL Brooklyn Duplex Apt!!', 6500),\n ('Luxury TriBeCa Apartment at an amazing price', 6500),\n ('Park Avenue Mansion by (Hidden by Airbnb)', 6419),\n ('UWS 1BR w/backyard + block from CP', 6000),\n ('Luxury townhouse Greenwich Village', 6000),\n ('SuperBowl Penthouse Loft 3,000 sqft', 5250),\n ('Midtown Manhattan great location (Gramacy park)', 5100),\n ('Beautiful 1 Bedroom in Nolita/Soho', 5000)]"
                    }, 
                    "output_type": "execute_result"
                }
            ], 
            "source": "%sql select \"name\",\"price\" from air_bnb order by \"price\" desc nulls last limit 20;"
        }, 
        {
            "source": "Question 4", 
            "cell_type": "markdown", 
            "metadata": {}
        }, 
        {
            "source": "## Display top 20 listings with price between 50 and 99", 
            "cell_type": "markdown", 
            "metadata": {}
        }, 
        {
            "execution_count": 19, 
            "cell_type": "code", 
            "metadata": {}, 
            "outputs": [
                {
                    "output_type": "stream", 
                    "name": "stdout", 
                    "text": " * ibm_db_sa://kkm06713:***@dashdb-txn-sbox-yp-dal09-04.services.dal.bluemix.net:50000/BLUDB\nDone.\n"
                }, 
                {
                    "execution_count": 19, 
                    "metadata": {}, 
                    "data": {
                        "text/html": "<table>\n    <tr>\n        <th>name</th>\n        <th>price</th>\n    </tr>\n    <tr>\n        <td>Hip Historic Brownstone Apartment with Backyard</td>\n        <td>99</td>\n    </tr>\n    <tr>\n        <td>Lincoln Center Studio, Clean&amp;Sunny!</td>\n        <td>99</td>\n    </tr>\n    <tr>\n        <td>2ND AVENUE OFF HOUSTON/LOFTLIKE STU</td>\n        <td>99</td>\n    </tr>\n    <tr>\n        <td>Giant Sunny Bedroom &amp; Private Bath in my Apartment</td>\n        <td>99</td>\n    </tr>\n    <tr>\n        <td>Beautiful Room Near Central Park!</td>\n        <td>99</td>\n    </tr>\n    <tr>\n        <td>Private room w/ queen bed + rooftop</td>\n        <td>99</td>\n    </tr>\n    <tr>\n        <td>Comfy, Cozy, Brooklyn close to Manhattan</td>\n        <td>99</td>\n    </tr>\n    <tr>\n        <td>Spacious &amp; Comfy BK Brownstone</td>\n        <td>99</td>\n    </tr>\n    <tr>\n        <td>Hell&#x27;s Kitchen Funky 80&#x27;s Hideaway!</td>\n        <td>99</td>\n    </tr>\n    <tr>\n        <td>Historic Brooklyn Studio Apartment</td>\n        <td>99</td>\n    </tr>\n    <tr>\n        <td>\u2606 STUDIO East Village \u2606 Own bath! \u2606 Sleeps 4 \u2606</td>\n        <td>99</td>\n    </tr>\n    <tr>\n        <td>Authentic New York City Living</td>\n        <td>99</td>\n    </tr>\n    <tr>\n        <td>Your Stunning Vacation Apartment!</td>\n        <td>99</td>\n    </tr>\n    <tr>\n        <td>Safe cute near subway&amp; Manhattan NY NY retro style</td>\n        <td>99</td>\n    </tr>\n    <tr>\n        <td>BROWNSTONE SUNDRENCHED BEAUTY</td>\n        <td>99</td>\n    </tr>\n    <tr>\n        <td>The gem of the East Village</td>\n        <td>99</td>\n    </tr>\n    <tr>\n        <td>Couldn&#x27;t Be Closer To Columbia Uni</td>\n        <td>99</td>\n    </tr>\n    <tr>\n        <td>CENTRAL PARK LOFT all for YOU</td>\n        <td>99</td>\n    </tr>\n    <tr>\n        <td>Eveland Private Bed &amp; Living Room w/ Own Entrance</td>\n        <td>99</td>\n    </tr>\n    <tr>\n        <td>Large Room in Amazing East Village Apt</td>\n        <td>99</td>\n    </tr>\n</table>", 
                        "text/plain": "[('Hip Historic Brownstone Apartment with Backyard', 99),\n ('Lincoln Center Studio, Clean&Sunny!', 99),\n ('2ND AVENUE OFF HOUSTON/LOFTLIKE STU', 99),\n ('Giant Sunny Bedroom & Private Bath in my Apartment', 99),\n ('Beautiful Room Near Central Park!', 99),\n ('Private room w/ queen bed + rooftop', 99),\n ('Comfy, Cozy, Brooklyn close to Manhattan', 99),\n ('Spacious & Comfy BK Brownstone', 99),\n (\"Hell's Kitchen Funky 80's Hideaway!\", 99),\n ('Historic Brooklyn Studio Apartment', 99),\n ('\u2606 STUDIO East Village \u2606 Own bath! \u2606 Sleeps 4 \u2606', 99),\n ('Authentic New York City Living', 99),\n ('Your Stunning Vacation Apartment!', 99),\n ('Safe cute near subway& Manhattan NY NY retro style', 99),\n ('BROWNSTONE SUNDRENCHED BEAUTY', 99),\n ('The gem of the East Village', 99),\n (\"Couldn't Be Closer To Columbia Uni\", 99),\n ('CENTRAL PARK LOFT all for YOU', 99),\n ('Eveland Private Bed & Living Room w/ Own Entrance', 99),\n ('Large Room in Amazing East Village Apt', 99)]"
                    }, 
                    "output_type": "execute_result"
                }
            ], 
            "source": "%sql select \"name\",\"price\" from air_bnb where \"price\" between 50 AND 99 order by \"price\" desc nulls last limit 20;"
        }, 
        {
            "source": "## Covert to DataFrame", 
            "cell_type": "markdown", 
            "metadata": {}
        }, 
        {
            "execution_count": 20, 
            "cell_type": "code", 
            "metadata": {}, 
            "outputs": [
                {
                    "execution_count": 20, 
                    "metadata": {}, 
                    "data": {
                        "text/html": "<div>\n<style scoped>\n    .dataframe tbody tr th:only-of-type {\n        vertical-align: middle;\n    }\n\n    .dataframe tbody tr th {\n        vertical-align: top;\n    }\n\n    .dataframe thead th {\n        text-align: right;\n    }\n</style>\n<table border=\"1\" class=\"dataframe\">\n  <thead>\n    <tr style=\"text-align: right;\">\n      <th></th>\n      <th>name</th>\n      <th>price</th>\n    </tr>\n  </thead>\n  <tbody>\n    <tr>\n      <th>0</th>\n      <td>Hip Historic Brownstone Apartment with Backyard</td>\n      <td>99</td>\n    </tr>\n    <tr>\n      <th>1</th>\n      <td>Lincoln Center Studio, Clean&amp;Sunny!</td>\n      <td>99</td>\n    </tr>\n    <tr>\n      <th>2</th>\n      <td>2ND AVENUE OFF HOUSTON/LOFTLIKE STU</td>\n      <td>99</td>\n    </tr>\n    <tr>\n      <th>3</th>\n      <td>Giant Sunny Bedroom &amp; Private Bath in my Apart...</td>\n      <td>99</td>\n    </tr>\n    <tr>\n      <th>4</th>\n      <td>Beautiful Room Near Central Park!</td>\n      <td>99</td>\n    </tr>\n    <tr>\n      <th>5</th>\n      <td>Private room w/ queen bed + rooftop</td>\n      <td>99</td>\n    </tr>\n    <tr>\n      <th>6</th>\n      <td>Comfy, Cozy, Brooklyn close to Manhattan</td>\n      <td>99</td>\n    </tr>\n    <tr>\n      <th>7</th>\n      <td>Spacious &amp; Comfy BK Brownstone</td>\n      <td>99</td>\n    </tr>\n    <tr>\n      <th>8</th>\n      <td>Hell's Kitchen Funky 80's Hideaway!</td>\n      <td>99</td>\n    </tr>\n    <tr>\n      <th>9</th>\n      <td>Historic Brooklyn Studio Apartment</td>\n      <td>99</td>\n    </tr>\n    <tr>\n      <th>10</th>\n      <td>\u2606 STUDIO East Village \u2606 Own bath! \u2606 Sleeps 4 \u2606</td>\n      <td>99</td>\n    </tr>\n    <tr>\n      <th>11</th>\n      <td>Authentic New York City Living</td>\n      <td>99</td>\n    </tr>\n    <tr>\n      <th>12</th>\n      <td>Your Stunning Vacation Apartment!</td>\n      <td>99</td>\n    </tr>\n    <tr>\n      <th>13</th>\n      <td>Safe cute near subway&amp; Manhattan NY NY retro s...</td>\n      <td>99</td>\n    </tr>\n    <tr>\n      <th>14</th>\n      <td>BROWNSTONE SUNDRENCHED BEAUTY</td>\n      <td>99</td>\n    </tr>\n    <tr>\n      <th>15</th>\n      <td>The gem of the East Village</td>\n      <td>99</td>\n    </tr>\n    <tr>\n      <th>16</th>\n      <td>Couldn't Be Closer To Columbia Uni</td>\n      <td>99</td>\n    </tr>\n    <tr>\n      <th>17</th>\n      <td>CENTRAL PARK LOFT all for YOU</td>\n      <td>99</td>\n    </tr>\n    <tr>\n      <th>18</th>\n      <td>Eveland Private Bed &amp; Living Room w/ Own Entrance</td>\n      <td>99</td>\n    </tr>\n    <tr>\n      <th>19</th>\n      <td>Large Room in Amazing East Village Apt</td>\n      <td>99</td>\n    </tr>\n  </tbody>\n</table>\n</div>", 
                        "text/plain": "                                                 name  price\n0     Hip Historic Brownstone Apartment with Backyard     99\n1                 Lincoln Center Studio, Clean&Sunny!     99\n2                 2ND AVENUE OFF HOUSTON/LOFTLIKE STU     99\n3   Giant Sunny Bedroom & Private Bath in my Apart...     99\n4                   Beautiful Room Near Central Park!     99\n5                 Private room w/ queen bed + rooftop     99\n6            Comfy, Cozy, Brooklyn close to Manhattan     99\n7                      Spacious & Comfy BK Brownstone     99\n8                 Hell's Kitchen Funky 80's Hideaway!     99\n9                  Historic Brooklyn Studio Apartment     99\n10     \u2606 STUDIO East Village \u2606 Own bath! \u2606 Sleeps 4 \u2606     99\n11                     Authentic New York City Living     99\n12                  Your Stunning Vacation Apartment!     99\n13  Safe cute near subway& Manhattan NY NY retro s...     99\n14                      BROWNSTONE SUNDRENCHED BEAUTY     99\n15                        The gem of the East Village     99\n16                 Couldn't Be Closer To Columbia Uni     99\n17                      CENTRAL PARK LOFT all for YOU     99\n18  Eveland Private Bed & Living Room w/ Own Entrance     99\n19             Large Room in Amazing East Village Apt     99"
                    }, 
                    "output_type": "execute_result"
                }
            ], 
            "source": "df_price = _.DataFrame()\ndf_price"
        }, 
        {
            "source": "## Display top 20 listings with more than 5 nights stay required", 
            "cell_type": "markdown", 
            "metadata": {}
        }, 
        {
            "execution_count": 21, 
            "cell_type": "code", 
            "metadata": {}, 
            "outputs": [
                {
                    "output_type": "stream", 
                    "name": "stdout", 
                    "text": " * ibm_db_sa://kkm06713:***@dashdb-txn-sbox-yp-dal09-04.services.dal.bluemix.net:50000/BLUDB\nDone.\n"
                }, 
                {
                    "execution_count": 21, 
                    "metadata": {}, 
                    "data": {
                        "text/html": "<table>\n    <tr>\n        <th>name</th>\n        <th>price</th>\n        <th>minimum_nights</th>\n    </tr>\n    <tr>\n        <td>Prime W. Village location 1 bdrm</td>\n        <td>180</td>\n        <td>1250</td>\n    </tr>\n    <tr>\n        <td></td>\n        <td>400</td>\n        <td>1000</td>\n    </tr>\n    <tr>\n        <td>Historic Designer 2 Bed. Apartment</td>\n        <td>99</td>\n        <td>999</td>\n    </tr>\n    <tr>\n        <td>Shared Studio (females only)</td>\n        <td>110</td>\n        <td>999</td>\n    </tr>\n    <tr>\n        <td>Beautiful place in Brooklyn! #2</td>\n        <td>79</td>\n        <td>999</td>\n    </tr>\n    <tr>\n        <td>Beautiful Fully Furnished 1 bed/bth</td>\n        <td>134</td>\n        <td>500</td>\n    </tr>\n    <tr>\n        <td>Williamsburg Apartment</td>\n        <td>140</td>\n        <td>500</td>\n    </tr>\n    <tr>\n        <td>Peaceful apartment close to F/G</td>\n        <td>45</td>\n        <td>500</td>\n    </tr>\n    <tr>\n        <td>Zen Room in Crown Heights Brooklyn</td>\n        <td>50</td>\n        <td>500</td>\n    </tr>\n    <tr>\n        <td>Wonderful Large 1 bedroom</td>\n        <td>75</td>\n        <td>500</td>\n    </tr>\n    <tr>\n        <td>Brand New Luxury Apt Lease Takeover</td>\n        <td>199</td>\n        <td>480</td>\n    </tr>\n    <tr>\n        <td>Not available</td>\n        <td>50</td>\n        <td>400</td>\n    </tr>\n    <tr>\n        <td>800sqft apartment with huge terrace</td>\n        <td>115</td>\n        <td>370</td>\n    </tr>\n    <tr>\n        <td>Bright Luxury Studio, Central Loc.</td>\n        <td>250</td>\n        <td>366</td>\n    </tr>\n    <tr>\n        <td>CHELSEA 1 Bdrm Plus Sleeping Loft!!</td>\n        <td>195</td>\n        <td>365</td>\n    </tr>\n    <tr>\n        <td>Modern West Village Apartment</td>\n        <td>500</td>\n        <td>365</td>\n    </tr>\n    <tr>\n        <td>Luxury Gramercy Lg 1Bd w Balcony</td>\n        <td>250</td>\n        <td>365</td>\n    </tr>\n    <tr>\n        <td>Park Slope Pre-War Apartment</td>\n        <td>100</td>\n        <td>365</td>\n    </tr>\n    <tr>\n        <td>Manhattan Sky Crib (1 year sublet)</td>\n        <td>135</td>\n        <td>365</td>\n    </tr>\n    <tr>\n        <td>Easy, comfortable studio in Midtown</td>\n        <td>125</td>\n        <td>365</td>\n    </tr>\n</table>", 
                        "text/plain": "[('Prime W. Village location 1 bdrm', 180, 1250),\n ('', 400, 1000),\n ('Historic Designer 2 Bed. Apartment', 99, 999),\n ('Shared Studio (females only)', 110, 999),\n ('Beautiful place in Brooklyn! #2', 79, 999),\n ('Beautiful Fully Furnished 1 bed/bth', 134, 500),\n ('Williamsburg Apartment', 140, 500),\n ('Peaceful apartment close to F/G', 45, 500),\n ('Zen Room in Crown Heights Brooklyn', 50, 500),\n ('Wonderful Large 1 bedroom', 75, 500),\n ('Brand New Luxury Apt Lease Takeover', 199, 480),\n ('Not available', 50, 400),\n ('800sqft apartment with huge terrace', 115, 370),\n ('Bright Luxury Studio, Central Loc.', 250, 366),\n ('CHELSEA 1 Bdrm Plus Sleeping Loft!!', 195, 365),\n ('Modern West Village Apartment', 500, 365),\n ('Luxury Gramercy Lg 1Bd w Balcony', 250, 365),\n ('Park Slope Pre-War Apartment', 100, 365),\n ('Manhattan Sky Crib (1 year sublet)', 135, 365),\n ('Easy, comfortable studio in Midtown', 125, 365)]"
                    }, 
                    "output_type": "execute_result"
                }
            ], 
            "source": "%sql select \"name\",\"price\",\"minimum_nights\" from air_bnb where \"minimum_nights\" > 5 order by \"minimum_nights\" desc nulls last limit 20;"
        }, 
        {
            "source": "## Convert to DataFrame", 
            "cell_type": "markdown", 
            "metadata": {}
        }, 
        {
            "execution_count": 22, 
            "cell_type": "code", 
            "metadata": {}, 
            "outputs": [
                {
                    "execution_count": 22, 
                    "metadata": {}, 
                    "data": {
                        "text/html": "<div>\n<style scoped>\n    .dataframe tbody tr th:only-of-type {\n        vertical-align: middle;\n    }\n\n    .dataframe tbody tr th {\n        vertical-align: top;\n    }\n\n    .dataframe thead th {\n        text-align: right;\n    }\n</style>\n<table border=\"1\" class=\"dataframe\">\n  <thead>\n    <tr style=\"text-align: right;\">\n      <th></th>\n      <th>name</th>\n      <th>price</th>\n      <th>minimum_nights</th>\n    </tr>\n  </thead>\n  <tbody>\n    <tr>\n      <th>0</th>\n      <td>Peaceful apartment close to F/G</td>\n      <td>45</td>\n      <td>500</td>\n    </tr>\n    <tr>\n      <th>1</th>\n      <td>Not available</td>\n      <td>50</td>\n      <td>400</td>\n    </tr>\n    <tr>\n      <th>2</th>\n      <td>Zen Room in Crown Heights Brooklyn</td>\n      <td>50</td>\n      <td>500</td>\n    </tr>\n    <tr>\n      <th>3</th>\n      <td>Wonderful Large 1 bedroom</td>\n      <td>75</td>\n      <td>500</td>\n    </tr>\n    <tr>\n      <th>4</th>\n      <td>Beautiful place in Brooklyn! #2</td>\n      <td>79</td>\n      <td>999</td>\n    </tr>\n    <tr>\n      <th>5</th>\n      <td>Historic Designer 2 Bed. Apartment</td>\n      <td>99</td>\n      <td>999</td>\n    </tr>\n    <tr>\n      <th>6</th>\n      <td>Park Slope Pre-War Apartment</td>\n      <td>100</td>\n      <td>365</td>\n    </tr>\n    <tr>\n      <th>7</th>\n      <td>Shared Studio (females only)</td>\n      <td>110</td>\n      <td>999</td>\n    </tr>\n    <tr>\n      <th>8</th>\n      <td>800sqft apartment with huge terrace</td>\n      <td>115</td>\n      <td>370</td>\n    </tr>\n    <tr>\n      <th>9</th>\n      <td>Easy, comfortable studio in Midtown</td>\n      <td>125</td>\n      <td>365</td>\n    </tr>\n    <tr>\n      <th>10</th>\n      <td>Beautiful Fully Furnished 1 bed/bth</td>\n      <td>134</td>\n      <td>500</td>\n    </tr>\n    <tr>\n      <th>11</th>\n      <td>Manhattan Sky Crib (1 year sublet)</td>\n      <td>135</td>\n      <td>365</td>\n    </tr>\n    <tr>\n      <th>12</th>\n      <td>Williamsburg Apartment</td>\n      <td>140</td>\n      <td>500</td>\n    </tr>\n    <tr>\n      <th>13</th>\n      <td>Prime W. Village location 1 bdrm</td>\n      <td>180</td>\n      <td>1250</td>\n    </tr>\n    <tr>\n      <th>14</th>\n      <td>CHELSEA 1 Bdrm Plus Sleeping Loft!!</td>\n      <td>195</td>\n      <td>365</td>\n    </tr>\n    <tr>\n      <th>15</th>\n      <td>Brand New Luxury Apt Lease Takeover</td>\n      <td>199</td>\n      <td>480</td>\n    </tr>\n    <tr>\n      <th>16</th>\n      <td>Bright Luxury Studio, Central Loc.</td>\n      <td>250</td>\n      <td>366</td>\n    </tr>\n    <tr>\n      <th>17</th>\n      <td>Luxury Gramercy Lg 1Bd w Balcony</td>\n      <td>250</td>\n      <td>365</td>\n    </tr>\n    <tr>\n      <th>18</th>\n      <td></td>\n      <td>400</td>\n      <td>1000</td>\n    </tr>\n    <tr>\n      <th>19</th>\n      <td>Modern West Village Apartment</td>\n      <td>500</td>\n      <td>365</td>\n    </tr>\n  </tbody>\n</table>\n</div>", 
                        "text/plain": "                                   name  price  minimum_nights\n0       Peaceful apartment close to F/G     45             500\n1                         Not available     50             400\n2    Zen Room in Crown Heights Brooklyn     50             500\n3             Wonderful Large 1 bedroom     75             500\n4       Beautiful place in Brooklyn! #2     79             999\n5    Historic Designer 2 Bed. Apartment     99             999\n6          Park Slope Pre-War Apartment    100             365\n7          Shared Studio (females only)    110             999\n8   800sqft apartment with huge terrace    115             370\n9   Easy, comfortable studio in Midtown    125             365\n10  Beautiful Fully Furnished 1 bed/bth    134             500\n11   Manhattan Sky Crib (1 year sublet)    135             365\n12               Williamsburg Apartment    140             500\n13     Prime W. Village location 1 bdrm    180            1250\n14  CHELSEA 1 Bdrm Plus Sleeping Loft!!    195             365\n15  Brand New Luxury Apt Lease Takeover    199             480\n16   Bright Luxury Studio, Central Loc.    250             366\n17     Luxury Gramercy Lg 1Bd w Balcony    250             365\n18                                         400            1000\n19        Modern West Village Apartment    500             365"
                    }, 
                    "output_type": "execute_result"
                }
            ], 
            "source": "df_nights = _.DataFrame()\ndf_nights.sort_values(\"price\",inplace = True)\ndf_nights.reset_index(drop = True,inplace = True)\ndf_nights"
        }, 
        {
            "source": "## Display top 20 listings with more than 10 reviews per month", 
            "cell_type": "markdown", 
            "metadata": {}
        }, 
        {
            "execution_count": 23, 
            "cell_type": "code", 
            "metadata": {}, 
            "outputs": [
                {
                    "output_type": "stream", 
                    "name": "stdout", 
                    "text": " * ibm_db_sa://kkm06713:***@dashdb-txn-sbox-yp-dal09-04.services.dal.bluemix.net:50000/BLUDB\nDone.\n"
                }, 
                {
                    "execution_count": 23, 
                    "metadata": {}, 
                    "data": {
                        "text/html": "<table>\n    <tr>\n        <th>name</th>\n        <th>price</th>\n        <th>neighbourhood</th>\n        <th>reviews_per_month</th>\n    </tr>\n    <tr>\n        <td>Enjoy great views of the City in our Deluxe Room!</td>\n        <td>100</td>\n        <td>Theater District</td>\n        <td>58.50</td>\n    </tr>\n    <tr>\n        <td>213781715</td>\n        <td>1</td>\n        <td>40.73543</td>\n        <td>33.00</td>\n    </tr>\n    <tr>\n        <td>Great Room in the heart of Times Square!</td>\n        <td>199</td>\n        <td>Theater District</td>\n        <td>27.95</td>\n    </tr>\n    <tr>\n        <td>Lou&#x27;s Palace-So much for so little</td>\n        <td>45</td>\n        <td>Rosedale</td>\n        <td>20.94</td>\n    </tr>\n    <tr>\n        <td>JFK Comfort.5 Mins from JFK Private Bedroom &amp; Bath</td>\n        <td>80</td>\n        <td>Springfield Gardens</td>\n        <td>19.75</td>\n    </tr>\n    <tr>\n        <td>JFK 2 Comfort 5 Mins from JFK Private Bedroom</td>\n        <td>50</td>\n        <td>Springfield Gardens</td>\n        <td>17.82</td>\n    </tr>\n    <tr>\n        <td>JFK 3 Comfort 5 Mins from JFK Private Bedroom</td>\n        <td>50</td>\n        <td>Springfield Gardens</td>\n        <td>16.81</td>\n    </tr>\n    <tr>\n        <td>Cozy Room Family Home LGA Airport NO CLEANING FEE</td>\n        <td>48</td>\n        <td>East Elmhurst</td>\n        <td>16.22</td>\n    </tr>\n    <tr>\n        <td>Cute Tiny Room Family Home by LGA NO CLEANING FEE</td>\n        <td>48</td>\n        <td>East Elmhurst</td>\n        <td>16.03</td>\n    </tr>\n    <tr>\n        <td>\u201cFor Heaven Cakes\u201d</td>\n        <td>75</td>\n        <td>Springfield Gardens</td>\n        <td>15.78</td>\n    </tr>\n    <tr>\n        <td>Studio Apartment 6 minutes from JFK Airport</td>\n        <td>67</td>\n        <td>Jamaica</td>\n        <td>15.32</td>\n    </tr>\n    <tr>\n        <td>6 Minutes From JFK Airport Cozy Bedroom</td>\n        <td>30</td>\n        <td>Jamaica</td>\n        <td>15.23</td>\n    </tr>\n    <tr>\n        <td>Nice Room 1 block away from Times Square action!</td>\n        <td>100</td>\n        <td>Theater District</td>\n        <td>14.62</td>\n    </tr>\n    <tr>\n        <td>Room near JFK Queen Bed</td>\n        <td>47</td>\n        <td>Jamaica</td>\n        <td>14.58</td>\n    </tr>\n    <tr>\n        <td>Sun Room Family Home LGA Airport NO CLEANING FEE</td>\n        <td>48</td>\n        <td>East Elmhurst</td>\n        <td>14.36</td>\n    </tr>\n    <tr>\n        <td>Hello! This is a very cozy space in Williamsburg.</td>\n        <td>100</td>\n        <td>Williamsburg</td>\n        <td>14.00</td>\n    </tr>\n    <tr>\n        <td>\u2605 AMAZING\u2605  TIME SQUARE/ 2 Bedroom 3 Bed Apartment</td>\n        <td>500</td>\n        <td>Hell&#x27;s Kitchen</td>\n        <td>14.00</td>\n    </tr>\n    <tr>\n        <td>Private bedroom 8 mins-JFK&amp;The Mall</td>\n        <td>65</td>\n        <td>Jamaica</td>\n        <td>13.48</td>\n    </tr>\n    <tr>\n        <td>Comfy Room Family Home LGA Airport NO CLEANING FEE</td>\n        <td>54</td>\n        <td>East Elmhurst</td>\n        <td>13.45</td>\n    </tr>\n    <tr>\n        <td>Balcony with Room! Close to LGA and JFK.</td>\n        <td>65</td>\n        <td>Richmond Hill</td>\n        <td>13.42</td>\n    </tr>\n</table>", 
                        "text/plain": "[('Enjoy great views of the City in our Deluxe Room!', 100, 'Theater District', Decimal('58.50')),\n ('213781715', 1, '40.73543', Decimal('33.00')),\n ('Great Room in the heart of Times Square!', 199, 'Theater District', Decimal('27.95')),\n (\"Lou's Palace-So much for so little\", 45, 'Rosedale', Decimal('20.94')),\n ('JFK Comfort.5 Mins from JFK Private Bedroom & Bath', 80, 'Springfield Gardens', Decimal('19.75')),\n ('JFK 2 Comfort 5 Mins from JFK Private Bedroom', 50, 'Springfield Gardens', Decimal('17.82')),\n ('JFK 3 Comfort 5 Mins from JFK Private Bedroom', 50, 'Springfield Gardens', Decimal('16.81')),\n ('Cozy Room Family Home LGA Airport NO CLEANING FEE', 48, 'East Elmhurst', Decimal('16.22')),\n ('Cute Tiny Room Family Home by LGA NO CLEANING FEE', 48, 'East Elmhurst', Decimal('16.03')),\n ('\u201cFor Heaven Cakes\u201d', 75, 'Springfield Gardens', Decimal('15.78')),\n ('Studio Apartment 6 minutes from JFK Airport', 67, 'Jamaica', Decimal('15.32')),\n ('6 Minutes From JFK Airport Cozy Bedroom', 30, 'Jamaica', Decimal('15.23')),\n ('Nice Room 1 block away from Times Square action!', 100, 'Theater District', Decimal('14.62')),\n ('Room near JFK Queen Bed', 47, 'Jamaica', Decimal('14.58')),\n ('Sun Room Family Home LGA Airport NO CLEANING FEE', 48, 'East Elmhurst', Decimal('14.36')),\n ('Hello! This is a very cozy space in Williamsburg.', 100, 'Williamsburg', Decimal('14.00')),\n ('\u2605 AMAZING\u2605  TIME SQUARE/ 2 Bedroom 3 Bed Apartment', 500, \"Hell's Kitchen\", Decimal('14.00')),\n ('Private bedroom 8 mins-JFK&The Mall', 65, 'Jamaica', Decimal('13.48')),\n ('Comfy Room Family Home LGA Airport NO CLEANING FEE', 54, 'East Elmhurst', Decimal('13.45')),\n ('Balcony with Room! Close to LGA and JFK.', 65, 'Richmond Hill', Decimal('13.42'))]"
                    }, 
                    "output_type": "execute_result"
                }
            ], 
            "source": "%sql select \"name\",\"price\",\"neighbourhood\",\"reviews_per_month\" from air_bnb where \"reviews_per_month\" > 10 order by \"reviews_per_month\" desc nulls last limit 20;"
        }, 
        {
            "source": "## Convert to DataFrame", 
            "cell_type": "markdown", 
            "metadata": {}
        }, 
        {
            "execution_count": 24, 
            "cell_type": "code", 
            "metadata": {}, 
            "outputs": [
                {
                    "execution_count": 24, 
                    "metadata": {}, 
                    "data": {
                        "text/html": "<div>\n<style scoped>\n    .dataframe tbody tr th:only-of-type {\n        vertical-align: middle;\n    }\n\n    .dataframe tbody tr th {\n        vertical-align: top;\n    }\n\n    .dataframe thead th {\n        text-align: right;\n    }\n</style>\n<table border=\"1\" class=\"dataframe\">\n  <thead>\n    <tr style=\"text-align: right;\">\n      <th></th>\n      <th>name</th>\n      <th>price</th>\n      <th>neighbourhood</th>\n      <th>reviews_per_month</th>\n    </tr>\n  </thead>\n  <tbody>\n    <tr>\n      <th>0</th>\n      <td>213781715</td>\n      <td>1</td>\n      <td>40.73543</td>\n      <td>33.00</td>\n    </tr>\n    <tr>\n      <th>1</th>\n      <td>6 Minutes From JFK Airport Cozy Bedroom</td>\n      <td>30</td>\n      <td>Jamaica</td>\n      <td>15.23</td>\n    </tr>\n    <tr>\n      <th>2</th>\n      <td>Lou's Palace-So much for so little</td>\n      <td>45</td>\n      <td>Rosedale</td>\n      <td>20.94</td>\n    </tr>\n    <tr>\n      <th>3</th>\n      <td>Room near JFK Queen Bed</td>\n      <td>47</td>\n      <td>Jamaica</td>\n      <td>14.58</td>\n    </tr>\n    <tr>\n      <th>4</th>\n      <td>Sun Room Family Home LGA Airport NO CLEANING FEE</td>\n      <td>48</td>\n      <td>East Elmhurst</td>\n      <td>14.36</td>\n    </tr>\n    <tr>\n      <th>5</th>\n      <td>Cozy Room Family Home LGA Airport NO CLEANING FEE</td>\n      <td>48</td>\n      <td>East Elmhurst</td>\n      <td>16.22</td>\n    </tr>\n    <tr>\n      <th>6</th>\n      <td>Cute Tiny Room Family Home by LGA NO CLEANING FEE</td>\n      <td>48</td>\n      <td>East Elmhurst</td>\n      <td>16.03</td>\n    </tr>\n    <tr>\n      <th>7</th>\n      <td>JFK 2 Comfort 5 Mins from JFK Private Bedroom</td>\n      <td>50</td>\n      <td>Springfield Gardens</td>\n      <td>17.82</td>\n    </tr>\n    <tr>\n      <th>8</th>\n      <td>JFK 3 Comfort 5 Mins from JFK Private Bedroom</td>\n      <td>50</td>\n      <td>Springfield Gardens</td>\n      <td>16.81</td>\n    </tr>\n    <tr>\n      <th>9</th>\n      <td>Comfy Room Family Home LGA Airport NO CLEANING...</td>\n      <td>54</td>\n      <td>East Elmhurst</td>\n      <td>13.45</td>\n    </tr>\n    <tr>\n      <th>10</th>\n      <td>Balcony with Room! Close to LGA and JFK.</td>\n      <td>65</td>\n      <td>Richmond Hill</td>\n      <td>13.42</td>\n    </tr>\n    <tr>\n      <th>11</th>\n      <td>Private bedroom 8 mins-JFK&amp;The Mall</td>\n      <td>65</td>\n      <td>Jamaica</td>\n      <td>13.48</td>\n    </tr>\n    <tr>\n      <th>12</th>\n      <td>Studio Apartment 6 minutes from JFK Airport</td>\n      <td>67</td>\n      <td>Jamaica</td>\n      <td>15.32</td>\n    </tr>\n    <tr>\n      <th>13</th>\n      <td>\u201cFor Heaven Cakes\u201d</td>\n      <td>75</td>\n      <td>Springfield Gardens</td>\n      <td>15.78</td>\n    </tr>\n    <tr>\n      <th>14</th>\n      <td>JFK Comfort.5 Mins from JFK Private Bedroom &amp; ...</td>\n      <td>80</td>\n      <td>Springfield Gardens</td>\n      <td>19.75</td>\n    </tr>\n    <tr>\n      <th>15</th>\n      <td>Hello! This is a very cozy space in Williamsburg.</td>\n      <td>100</td>\n      <td>Williamsburg</td>\n      <td>14.00</td>\n    </tr>\n    <tr>\n      <th>16</th>\n      <td>Nice Room 1 block away from Times Square action!</td>\n      <td>100</td>\n      <td>Theater District</td>\n      <td>14.62</td>\n    </tr>\n    <tr>\n      <th>17</th>\n      <td>Enjoy great views of the City in our Deluxe Room!</td>\n      <td>100</td>\n      <td>Theater District</td>\n      <td>58.50</td>\n    </tr>\n    <tr>\n      <th>18</th>\n      <td>Great Room in the heart of Times Square!</td>\n      <td>199</td>\n      <td>Theater District</td>\n      <td>27.95</td>\n    </tr>\n    <tr>\n      <th>19</th>\n      <td>\u2605 AMAZING\u2605  TIME SQUARE/ 2 Bedroom 3 Bed Apart...</td>\n      <td>500</td>\n      <td>Hell's Kitchen</td>\n      <td>14.00</td>\n    </tr>\n  </tbody>\n</table>\n</div>", 
                        "text/plain": "                                                 name  price  \\\n0                                           213781715      1   \n1             6 Minutes From JFK Airport Cozy Bedroom     30   \n2                  Lou's Palace-So much for so little     45   \n3                             Room near JFK Queen Bed     47   \n4    Sun Room Family Home LGA Airport NO CLEANING FEE     48   \n5   Cozy Room Family Home LGA Airport NO CLEANING FEE     48   \n6   Cute Tiny Room Family Home by LGA NO CLEANING FEE     48   \n7       JFK 2 Comfort 5 Mins from JFK Private Bedroom     50   \n8       JFK 3 Comfort 5 Mins from JFK Private Bedroom     50   \n9   Comfy Room Family Home LGA Airport NO CLEANING...     54   \n10           Balcony with Room! Close to LGA and JFK.     65   \n11                Private bedroom 8 mins-JFK&The Mall     65   \n12        Studio Apartment 6 minutes from JFK Airport     67   \n13                                 \u201cFor Heaven Cakes\u201d     75   \n14  JFK Comfort.5 Mins from JFK Private Bedroom & ...     80   \n15  Hello! This is a very cozy space in Williamsburg.    100   \n16   Nice Room 1 block away from Times Square action!    100   \n17  Enjoy great views of the City in our Deluxe Room!    100   \n18           Great Room in the heart of Times Square!    199   \n19  \u2605 AMAZING\u2605  TIME SQUARE/ 2 Bedroom 3 Bed Apart...    500   \n\n          neighbourhood reviews_per_month  \n0              40.73543             33.00  \n1               Jamaica             15.23  \n2              Rosedale             20.94  \n3               Jamaica             14.58  \n4         East Elmhurst             14.36  \n5         East Elmhurst             16.22  \n6         East Elmhurst             16.03  \n7   Springfield Gardens             17.82  \n8   Springfield Gardens             16.81  \n9         East Elmhurst             13.45  \n10        Richmond Hill             13.42  \n11              Jamaica             13.48  \n12              Jamaica             15.32  \n13  Springfield Gardens             15.78  \n14  Springfield Gardens             19.75  \n15         Williamsburg             14.00  \n16     Theater District             14.62  \n17     Theater District             58.50  \n18     Theater District             27.95  \n19       Hell's Kitchen             14.00  "
                    }, 
                    "output_type": "execute_result"
                }
            ], 
            "source": "df_reviews = _.DataFrame()\ndf_reviews.sort_values(\"price\",inplace = True)\ndf_reviews.reset_index(drop = True,inplace = True)\ndf_reviews"
        }, 
        {
            "source": "## Display top 2 hosts with listings between 300 and 400", 
            "cell_type": "markdown", 
            "metadata": {}
        }, 
        {
            "execution_count": 25, 
            "cell_type": "code", 
            "metadata": {}, 
            "outputs": [
                {
                    "output_type": "stream", 
                    "name": "stdout", 
                    "text": " * ibm_db_sa://kkm06713:***@dashdb-txn-sbox-yp-dal09-04.services.dal.bluemix.net:50000/BLUDB\nDone.\n"
                }, 
                {
                    "execution_count": 25, 
                    "metadata": {}, 
                    "data": {
                        "text/html": "<table>\n    <tr>\n        <th>host_id</th>\n        <th>host_name</th>\n        <th>listings</th>\n    </tr>\n    <tr>\n        <td>Edna</td>\n        <td>Manhattan</td>\n        <td>365</td>\n    </tr>\n    <tr>\n        <td>219517861</td>\n        <td>Sonder (NYC)</td>\n        <td>327</td>\n    </tr>\n</table>", 
                        "text/plain": "[('Edna', 'Manhattan', 365), ('219517861', 'Sonder (NYC)', 327)]"
                    }, 
                    "output_type": "execute_result"
                }
            ], 
            "source": "%sql select \"host_id\",\"host_name\",\"calculated_host_listings_count\" as \"listings\" from air_bnb where \"calculated_host_listings_count\" between 300 AND 400 order by \"listings\" desc nulls last limit 2;"
        }, 
        {
            "source": "## Convert to DataFrame", 
            "cell_type": "markdown", 
            "metadata": {}
        }, 
        {
            "execution_count": 26, 
            "cell_type": "code", 
            "metadata": {}, 
            "outputs": [
                {
                    "execution_count": 26, 
                    "metadata": {}, 
                    "data": {
                        "text/html": "<div>\n<style scoped>\n    .dataframe tbody tr th:only-of-type {\n        vertical-align: middle;\n    }\n\n    .dataframe tbody tr th {\n        vertical-align: top;\n    }\n\n    .dataframe thead th {\n        text-align: right;\n    }\n</style>\n<table border=\"1\" class=\"dataframe\">\n  <thead>\n    <tr style=\"text-align: right;\">\n      <th></th>\n      <th>host_id</th>\n      <th>host_name</th>\n      <th>listings</th>\n    </tr>\n  </thead>\n  <tbody>\n    <tr>\n      <th>0</th>\n      <td>Edna</td>\n      <td>Manhattan</td>\n      <td>365</td>\n    </tr>\n    <tr>\n      <th>1</th>\n      <td>219517861</td>\n      <td>Sonder (NYC)</td>\n      <td>327</td>\n    </tr>\n  </tbody>\n</table>\n</div>", 
                        "text/plain": "     host_id     host_name  listings\n0       Edna     Manhattan       365\n1  219517861  Sonder (NYC)       327"
                    }, 
                    "output_type": "execute_result"
                }
            ], 
            "source": "df_listings = _.DataFrame()\ndf_listings"
        }, 
        {
            "source": "## Display top 20 listings with year round availability", 
            "cell_type": "markdown", 
            "metadata": {}
        }, 
        {
            "execution_count": 27, 
            "cell_type": "code", 
            "metadata": {}, 
            "outputs": [
                {
                    "output_type": "stream", 
                    "name": "stdout", 
                    "text": " * ibm_db_sa://kkm06713:***@dashdb-txn-sbox-yp-dal09-04.services.dal.bluemix.net:50000/BLUDB\nDone.\n"
                }, 
                {
                    "execution_count": 27, 
                    "metadata": {}, 
                    "data": {
                        "text/html": "<table>\n    <tr>\n        <th>name</th>\n        <th>price</th>\n        <th>365</th>\n    </tr>\n    <tr>\n        <td>Clean &amp; quiet apt home by the park</td>\n        <td>149</td>\n        <td>365</td>\n    </tr>\n    <tr>\n        <td>LARGE 1BR (CONV 2BR) CROWN HEIGHTS</td>\n        <td>100</td>\n        <td>365</td>\n    </tr>\n    <tr>\n        <td>Modern, Safe, Clean, Bright Room in Astoria for 2</td>\n        <td>80</td>\n        <td>365</td>\n    </tr>\n    <tr>\n        <td>The Brooklyn Waverly</td>\n        <td>650</td>\n        <td>365</td>\n    </tr>\n    <tr>\n        <td>DOMINIQUE&#x27;S NY mini efficiency* wifi*metro*quiet</td>\n        <td>105</td>\n        <td>365</td>\n    </tr>\n    <tr>\n        <td>Large and Cozy Private Bedroom</td>\n        <td>39</td>\n        <td>365</td>\n    </tr>\n    <tr>\n        <td>Private Room/bath Luxurious Harlem</td>\n        <td>175</td>\n        <td>365</td>\n    </tr>\n    <tr>\n        <td>SpaHa Studio Monthly Rental</td>\n        <td>125</td>\n        <td>365</td>\n    </tr>\n    <tr>\n        <td>Nice, clean, safe, convenient 3BR</td>\n        <td>140</td>\n        <td>365</td>\n    </tr>\n    <tr>\n        <td>Beautiful Uptown Manhattan apartmnt</td>\n        <td>200</td>\n        <td>365</td>\n    </tr>\n    <tr>\n        <td>3 floors of luxury!</td>\n        <td>265</td>\n        <td>365</td>\n    </tr>\n    <tr>\n        <td>Clean and convenient 2BR apartment</td>\n        <td>140</td>\n        <td>365</td>\n    </tr>\n    <tr>\n        <td>( F) Excellent/Pvt Rm</td>\n        <td>55</td>\n        <td>365</td>\n    </tr>\n    <tr>\n        <td>Beautiful Queens Brownstone! - 5BR</td>\n        <td>350</td>\n        <td>365</td>\n    </tr>\n    <tr>\n        <td>Charming &amp; Cozy midtown loft any WEEK ENDS  !!!</td>\n        <td>250</td>\n        <td>365</td>\n    </tr>\n    <tr>\n        <td>Huge Private  Floor at The Waverly</td>\n        <td>135</td>\n        <td>365</td>\n    </tr>\n    <tr>\n        <td>Upper Manhattan, New York</td>\n        <td>89</td>\n        <td>365</td>\n    </tr>\n    <tr>\n        <td>Country space in the city</td>\n        <td>150</td>\n        <td>365</td>\n    </tr>\n    <tr>\n        <td>Clean and Quiet in Brooklyn</td>\n        <td>35</td>\n        <td>365</td>\n    </tr>\n    <tr>\n        <td>THE VILLAGE OF HARLEM....NEW YORK !</td>\n        <td>150</td>\n        <td>365</td>\n    </tr>\n</table>", 
                        "text/plain": "[('Clean & quiet apt home by the park', 149, 365),\n ('LARGE 1BR (CONV 2BR) CROWN HEIGHTS', 100, 365),\n ('Modern, Safe, Clean, Bright Room in Astoria for 2', 80, 365),\n ('The Brooklyn Waverly', 650, 365),\n (\"DOMINIQUE'S NY mini efficiency* wifi*metro*quiet\", 105, 365),\n ('Large and Cozy Private Bedroom', 39, 365),\n ('Private Room/bath Luxurious Harlem', 175, 365),\n ('SpaHa Studio Monthly Rental', 125, 365),\n ('Nice, clean, safe, convenient 3BR', 140, 365),\n ('Beautiful Uptown Manhattan apartmnt', 200, 365),\n ('3 floors of luxury!', 265, 365),\n ('Clean and convenient 2BR apartment', 140, 365),\n ('( F) Excellent/Pvt Rm', 55, 365),\n ('Beautiful Queens Brownstone! - 5BR', 350, 365),\n ('Charming & Cozy midtown loft any WEEK ENDS  !!!', 250, 365),\n ('Huge Private  Floor at The Waverly', 135, 365),\n ('Upper Manhattan, New York', 89, 365),\n ('Country space in the city', 150, 365),\n ('Clean and Quiet in Brooklyn', 35, 365),\n ('THE VILLAGE OF HARLEM....NEW YORK !', 150, 365)]"
                    }, 
                    "output_type": "execute_result"
                }
            ], 
            "source": "%sql select \"name\",\"price\",\"availability_365\" as \"365\" from air_bnb order by \"365\" desc nulls last limit 20;"
        }, 
        {
            "source": "## Convert to DataFrame", 
            "cell_type": "markdown", 
            "metadata": {}
        }, 
        {
            "execution_count": 28, 
            "cell_type": "code", 
            "metadata": {}, 
            "outputs": [
                {
                    "execution_count": 28, 
                    "metadata": {}, 
                    "data": {
                        "text/html": "<div>\n<style scoped>\n    .dataframe tbody tr th:only-of-type {\n        vertical-align: middle;\n    }\n\n    .dataframe tbody tr th {\n        vertical-align: top;\n    }\n\n    .dataframe thead th {\n        text-align: right;\n    }\n</style>\n<table border=\"1\" class=\"dataframe\">\n  <thead>\n    <tr style=\"text-align: right;\">\n      <th></th>\n      <th>name</th>\n      <th>price</th>\n      <th>365</th>\n    </tr>\n  </thead>\n  <tbody>\n    <tr>\n      <th>0</th>\n      <td>Clean and Quiet in Brooklyn</td>\n      <td>35</td>\n      <td>365</td>\n    </tr>\n    <tr>\n      <th>1</th>\n      <td>Large and Cozy Private Bedroom</td>\n      <td>39</td>\n      <td>365</td>\n    </tr>\n    <tr>\n      <th>2</th>\n      <td>( F) Excellent/Pvt Rm</td>\n      <td>55</td>\n      <td>365</td>\n    </tr>\n    <tr>\n      <th>3</th>\n      <td>Modern, Safe, Clean, Bright Room in Astoria for 2</td>\n      <td>80</td>\n      <td>365</td>\n    </tr>\n    <tr>\n      <th>4</th>\n      <td>Upper Manhattan, New York</td>\n      <td>89</td>\n      <td>365</td>\n    </tr>\n    <tr>\n      <th>5</th>\n      <td>LARGE 1BR (CONV 2BR) CROWN HEIGHTS</td>\n      <td>100</td>\n      <td>365</td>\n    </tr>\n    <tr>\n      <th>6</th>\n      <td>DOMINIQUE'S NY mini efficiency* wifi*metro*quiet</td>\n      <td>105</td>\n      <td>365</td>\n    </tr>\n    <tr>\n      <th>7</th>\n      <td>SpaHa Studio Monthly Rental</td>\n      <td>125</td>\n      <td>365</td>\n    </tr>\n    <tr>\n      <th>8</th>\n      <td>Huge Private  Floor at The Waverly</td>\n      <td>135</td>\n      <td>365</td>\n    </tr>\n    <tr>\n      <th>9</th>\n      <td>Nice, clean, safe, convenient 3BR</td>\n      <td>140</td>\n      <td>365</td>\n    </tr>\n    <tr>\n      <th>10</th>\n      <td>Clean and convenient 2BR apartment</td>\n      <td>140</td>\n      <td>365</td>\n    </tr>\n    <tr>\n      <th>11</th>\n      <td>Clean &amp; quiet apt home by the park</td>\n      <td>149</td>\n      <td>365</td>\n    </tr>\n    <tr>\n      <th>12</th>\n      <td>Country space in the city</td>\n      <td>150</td>\n      <td>365</td>\n    </tr>\n    <tr>\n      <th>13</th>\n      <td>THE VILLAGE OF HARLEM....NEW YORK !</td>\n      <td>150</td>\n      <td>365</td>\n    </tr>\n    <tr>\n      <th>14</th>\n      <td>Private Room/bath Luxurious Harlem</td>\n      <td>175</td>\n      <td>365</td>\n    </tr>\n    <tr>\n      <th>15</th>\n      <td>Beautiful Uptown Manhattan apartmnt</td>\n      <td>200</td>\n      <td>365</td>\n    </tr>\n    <tr>\n      <th>16</th>\n      <td>Charming &amp; Cozy midtown loft any WEEK ENDS  !!!</td>\n      <td>250</td>\n      <td>365</td>\n    </tr>\n    <tr>\n      <th>17</th>\n      <td>3 floors of luxury!</td>\n      <td>265</td>\n      <td>365</td>\n    </tr>\n    <tr>\n      <th>18</th>\n      <td>Beautiful Queens Brownstone! - 5BR</td>\n      <td>350</td>\n      <td>365</td>\n    </tr>\n    <tr>\n      <th>19</th>\n      <td>The Brooklyn Waverly</td>\n      <td>650</td>\n      <td>365</td>\n    </tr>\n  </tbody>\n</table>\n</div>", 
                        "text/plain": "                                                 name  price  365\n0                         Clean and Quiet in Brooklyn     35  365\n1                      Large and Cozy Private Bedroom     39  365\n2                               ( F) Excellent/Pvt Rm     55  365\n3   Modern, Safe, Clean, Bright Room in Astoria for 2     80  365\n4                           Upper Manhattan, New York     89  365\n5                  LARGE 1BR (CONV 2BR) CROWN HEIGHTS    100  365\n6    DOMINIQUE'S NY mini efficiency* wifi*metro*quiet    105  365\n7                         SpaHa Studio Monthly Rental    125  365\n8                  Huge Private  Floor at The Waverly    135  365\n9                   Nice, clean, safe, convenient 3BR    140  365\n10                 Clean and convenient 2BR apartment    140  365\n11                 Clean & quiet apt home by the park    149  365\n12                          Country space in the city    150  365\n13                THE VILLAGE OF HARLEM....NEW YORK !    150  365\n14                 Private Room/bath Luxurious Harlem    175  365\n15                Beautiful Uptown Manhattan apartmnt    200  365\n16    Charming & Cozy midtown loft any WEEK ENDS  !!!    250  365\n17                                3 floors of luxury!    265  365\n18                 Beautiful Queens Brownstone! - 5BR    350  365\n19                               The Brooklyn Waverly    650  365"
                    }, 
                    "output_type": "execute_result"
                }
            ], 
            "source": "df_365 = _.DataFrame()\ndf_365.sort_values(\"price\",inplace = True)\ndf_365.reset_index(drop = True,inplace = True)\ndf_365"
        }
    ], 
    "metadata": {
        "kernelspec": {
            "display_name": "Python 3.6", 
            "name": "python3", 
            "language": "python"
        }, 
        "language_info": {
            "mimetype": "text/x-python", 
            "nbconvert_exporter": "python", 
            "version": "3.6.8", 
            "name": "python", 
            "file_extension": ".py", 
            "pygments_lexer": "ipython3", 
            "codemirror_mode": {
                "version": 3, 
                "name": "ipython"
            }
        }
    }, 
    "nbformat": 4
}